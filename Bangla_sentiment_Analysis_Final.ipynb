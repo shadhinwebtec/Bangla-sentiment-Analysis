{
 "cells": [
  {
   "cell_type": "code",
   "execution_count": 1,
   "metadata": {},
   "outputs": [
    {
     "name": "stdout",
     "output_type": "stream",
     "text": [
      "Requirement already satisfied: unidecode in c:\\users\\user\\anaconda3\\envs\\env_python3.9\\lib\\site-packages (1.3.7)\n",
      "Note: you may need to restart the kernel to use updated packages.\n"
     ]
    }
   ],
   "source": [
    "pip install unidecode"
   ]
  },
  {
   "cell_type": "code",
   "execution_count": 2,
   "metadata": {},
   "outputs": [],
   "source": [
    "import pandas as pd\n",
    "from pandas import read_excel\n",
    "import numpy as np \n",
    "import re \n",
    "from re import sub\n",
    "import multiprocessing\n",
    "from unidecode import unidecode\n",
    "import os \n",
    "from time import time \n",
    "import tensorflow as tf \n",
    "import keras\n",
    "from keras.models import Sequential\n",
    "from keras.layers import LSTM, Dense, Dropout, Activation,Embedding, Flatten,Bidirectional,MaxPooling2D, Conv1D, MaxPooling1D\n",
    "from tensorflow.keras.optimizers import SGD, Adam\n",
    "from keras import regularizers\n",
    "from keras.preprocessing.text import Tokenizer\n",
    "from keras.preprocessing.sequence import pad_sequences\n",
    "#from keras.utils.np_utils import to_categorical\n",
    "from keras.utils import to_categorical\n",
    "import h5py\n",
    "import csv\n",
    "import seaborn as sns\n",
    "import matplotlib.pyplot as plt\n",
    "from sklearn.model_selection import train_test_split\n",
    "\n",
    "\n"
   ]
  },
  {
   "cell_type": "markdown",
   "metadata": {},
   "source": [
    "#clean unwwanted thing from dataset "
   ]
  },
  {
   "cell_type": "code",
   "execution_count": 3,
   "metadata": {},
   "outputs": [],
   "source": [
    "def text_to_word_list(text):\n",
    "    text=text.split()\n",
    "    return text\n",
    "\n",
    "def replace_strings(text):\n",
    "    emoji_pattern=re.compile(\"[\"u\"\\U0001F600-\\U0001F64F\"  # emoticons\n",
    "                           u\"\\U0001F300-\\U0001F5FF\"  # symbols & pictographs\n",
    "                           u\"\\U0001F680-\\U0001F6FF\"  # transport & map symbols\n",
    "                           u\"\\U0001F1E0-\\U0001F1FF\"  # flags (iOS)\n",
    "                           u\"\\U00002702-\\U000027B0\"\n",
    "                           u\"\\U000024C2-\\U0001F251\"\n",
    "                           u\"\\u00C0-\\u017F\"          #latin\n",
    "                           u\"\\u2000-\\u206F\"\"]+\", flags=re.UNICODE)\n",
    "    english_pattern=re.compile('[a-zA-Z0-9]+', flags=re.I)\n",
    "    text=emoji_pattern.sub(r'', text)\n",
    "    text=english_pattern.sub(r'', text)\n",
    "    return text\n",
    "\n",
    "\n",
    "# remove punctuations\n",
    "\n",
    "def remove_punctuations(my_str):\n",
    "        # define punctuation\n",
    "    punctuations = '''```\u0012\u0010\u0002\b`\u0007\b£|¢|\u0007Ñ+-*/=EROero৳০১২৩৪৫৬৭৮৯012–34567•89।!()-[]{};:'\"“\\’,<>./?@#$%^&*_~‘—॥”‰⚽️✌�￰৷￰'''\n",
    "    \n",
    "    no_punct = \"\"\n",
    "    for char in my_str:\n",
    "        if char not in punctuations:\n",
    "            no_punct = no_punct + char\n",
    "\n",
    "    # display the unpunctuated string\n",
    "    return no_punct\n",
    "\n",
    "\n",
    "\n",
    "def joining(text):\n",
    "    out=' '.join(text)\n",
    "    return out\n",
    "\n",
    "def preprocessing(text):\n",
    "    out=remove_punctuations(replace_strings(text))\n",
    "    return out\n",
    "\n",
    "\n"
   ]
  },
  {
   "cell_type": "code",
   "execution_count": 4,
   "metadata": {},
   "outputs": [
    {
     "name": "stdout",
     "output_type": "stream",
     "text": [
      "Requirement already satisfied: openpyxl in c:\\users\\user\\anaconda3\\envs\\env_python3.9\\lib\\site-packages (3.1.2)\n",
      "Requirement already satisfied: et-xmlfile in c:\\users\\user\\anaconda3\\envs\\env_python3.9\\lib\\site-packages (from openpyxl) (1.1.0)\n",
      "Note: you may need to restart the kernel to use updated packages.\n"
     ]
    }
   ],
   "source": [
    "pip install openpyxl"
   ]
  },
  {
   "cell_type": "code",
   "execution_count": 5,
   "metadata": {},
   "outputs": [
    {
     "name": "stdout",
     "output_type": "stream",
     "text": [
      "Requirement already satisfied: xlrd==1.2.0 in c:\\users\\user\\anaconda3\\envs\\env_python3.9\\lib\\site-packages (1.2.0)\n",
      "Note: you may need to restart the kernel to use updated packages.\n"
     ]
    }
   ],
   "source": [
    "pip install xlrd==1.2.0"
   ]
  },
  {
   "cell_type": "code",
   "execution_count": 6,
   "metadata": {},
   "outputs": [
    {
     "data": {
      "text/html": [
       "<div>\n",
       "<style scoped>\n",
       "    .dataframe tbody tr th:only-of-type {\n",
       "        vertical-align: middle;\n",
       "    }\n",
       "\n",
       "    .dataframe tbody tr th {\n",
       "        vertical-align: top;\n",
       "    }\n",
       "\n",
       "    .dataframe thead th {\n",
       "        text-align: right;\n",
       "    }\n",
       "</style>\n",
       "<table border=\"1\" class=\"dataframe\">\n",
       "  <thead>\n",
       "    <tr style=\"text-align: right;\">\n",
       "      <th></th>\n",
       "      <th>Unnamed: 0</th>\n",
       "      <th>Unnamed: 1</th>\n",
       "      <th>Unnamed: 2</th>\n",
       "      <th>sentence</th>\n",
       "      <th>sentiment</th>\n",
       "    </tr>\n",
       "  </thead>\n",
       "  <tbody>\n",
       "    <tr>\n",
       "      <th>0</th>\n",
       "      <td>0</td>\n",
       "      <td>NaN</td>\n",
       "      <td>NaN</td>\n",
       "      <td>ওয়ও আমি গর্বিত বাঙ্গালি</td>\n",
       "      <td>1</td>\n",
       "    </tr>\n",
       "    <tr>\n",
       "      <th>1</th>\n",
       "      <td>1</td>\n",
       "      <td>NaN</td>\n",
       "      <td>NaN</td>\n",
       "      <td>বাংলাদেশ এর কিছু মানুষ নিজে কিছু করতে পারবেনা ...</td>\n",
       "      <td>0</td>\n",
       "    </tr>\n",
       "    <tr>\n",
       "      <th>2</th>\n",
       "      <td>2</td>\n",
       "      <td>NaN</td>\n",
       "      <td>NaN</td>\n",
       "      <td>রামোসের ঘুম আসে না</td>\n",
       "      <td>0</td>\n",
       "    </tr>\n",
       "    <tr>\n",
       "      <th>3</th>\n",
       "      <td>3</td>\n",
       "      <td>NaN</td>\n",
       "      <td>NaN</td>\n",
       "      <td>কোহলির প্রতি শ্রদ্ধা হারিয়ে ফেলছি</td>\n",
       "      <td>1</td>\n",
       "    </tr>\n",
       "    <tr>\n",
       "      <th>4</th>\n",
       "      <td>4</td>\n",
       "      <td>NaN</td>\n",
       "      <td>NaN</td>\n",
       "      <td>থ্যাঙ্ক ইউ মাছরাঙ্গা টেলিভিশনকিন্তু ছাপোষা আন্...</td>\n",
       "      <td>0</td>\n",
       "    </tr>\n",
       "    <tr>\n",
       "      <th>...</th>\n",
       "      <td>...</td>\n",
       "      <td>...</td>\n",
       "      <td>...</td>\n",
       "      <td>...</td>\n",
       "      <td>...</td>\n",
       "    </tr>\n",
       "    <tr>\n",
       "      <th>6647</th>\n",
       "      <td>6647</td>\n",
       "      <td>NaN</td>\n",
       "      <td>NaN</td>\n",
       "      <td>আমি কখনো আশা করিনি যে আমি আমার স্বপ্নের প্রিয় ...</td>\n",
       "      <td>1</td>\n",
       "    </tr>\n",
       "    <tr>\n",
       "      <th>6648</th>\n",
       "      <td>6648</td>\n",
       "      <td>NaN</td>\n",
       "      <td>NaN</td>\n",
       "      <td>মিডিয়া লিটনকে একজন খারাপ মানুষ হিসেবে প্রতিষ্ঠ...</td>\n",
       "      <td>0</td>\n",
       "    </tr>\n",
       "    <tr>\n",
       "      <th>6649</th>\n",
       "      <td>6649</td>\n",
       "      <td>NaN</td>\n",
       "      <td>NaN</td>\n",
       "      <td>বাংলাদেশের জন্ম কিংবা তার পূর্বের ইতিহাস অনেকে...</td>\n",
       "      <td>0</td>\n",
       "    </tr>\n",
       "    <tr>\n",
       "      <th>6650</th>\n",
       "      <td>6650</td>\n",
       "      <td>NaN</td>\n",
       "      <td>NaN</td>\n",
       "      <td>আপনারা সিম নিবন্দন করালেন বাংলাদেশে অপরাধ কমবে...</td>\n",
       "      <td>0</td>\n",
       "    </tr>\n",
       "    <tr>\n",
       "      <th>6651</th>\n",
       "      <td>6651</td>\n",
       "      <td>NaN</td>\n",
       "      <td>NaN</td>\n",
       "      <td>কত দিন যে মোবাইল ছুড়ে ফেলতে ইচ্ছা হয়েছে তার ...</td>\n",
       "      <td>0</td>\n",
       "    </tr>\n",
       "  </tbody>\n",
       "</table>\n",
       "<p>6652 rows × 5 columns</p>\n",
       "</div>"
      ],
      "text/plain": [
       "      Unnamed: 0  Unnamed: 1  Unnamed: 2  \\\n",
       "0              0         NaN         NaN   \n",
       "1              1         NaN         NaN   \n",
       "2              2         NaN         NaN   \n",
       "3              3         NaN         NaN   \n",
       "4              4         NaN         NaN   \n",
       "...          ...         ...         ...   \n",
       "6647        6647         NaN         NaN   \n",
       "6648        6648         NaN         NaN   \n",
       "6649        6649         NaN         NaN   \n",
       "6650        6650         NaN         NaN   \n",
       "6651        6651         NaN         NaN   \n",
       "\n",
       "                                               sentence  sentiment  \n",
       "0                               ওয়ও আমি গর্বিত বাঙ্গালি          1  \n",
       "1     বাংলাদেশ এর কিছু মানুষ নিজে কিছু করতে পারবেনা ...          0  \n",
       "2                                    রামোসের ঘুম আসে না          0  \n",
       "3                     কোহলির প্রতি শ্রদ্ধা হারিয়ে ফেলছি          1  \n",
       "4     থ্যাঙ্ক ইউ মাছরাঙ্গা টেলিভিশনকিন্তু ছাপোষা আন্...          0  \n",
       "...                                                 ...        ...  \n",
       "6647  আমি কখনো আশা করিনি যে আমি আমার স্বপ্নের প্রিয় ...          1  \n",
       "6648  মিডিয়া লিটনকে একজন খারাপ মানুষ হিসেবে প্রতিষ্ঠ...          0  \n",
       "6649  বাংলাদেশের জন্ম কিংবা তার পূর্বের ইতিহাস অনেকে...          0  \n",
       "6650  আপনারা সিম নিবন্দন করালেন বাংলাদেশে অপরাধ কমবে...          0  \n",
       "6651  কত দিন যে মোবাইল ছুড়ে ফেলতে ইচ্ছা হয়েছে তার ...          0  \n",
       "\n",
       "[6652 rows x 5 columns]"
      ]
     },
     "metadata": {},
     "output_type": "display_data"
    }
   ],
   "source": [
    "df=pd.read_excel('predicted_unsupervised_sentiment.xlsx')\n",
    "display(df)"
   ]
  },
  {
   "cell_type": "code",
   "execution_count": 7,
   "metadata": {},
   "outputs": [
    {
     "data": {
      "text/plain": [
       "<Axes: xlabel='sentiment', ylabel='count'>"
      ]
     },
     "execution_count": 7,
     "metadata": {},
     "output_type": "execute_result"
    },
    {
     "data": {
      "image/png": "[encoded data removed]",
      "text/plain": [
       "<Figure size 640x480 with 1 Axes>"
      ]
     },
     "metadata": {},
     "output_type": "display_data"
    }
   ],
   "source": [
    "sns.countplot(x ='sentiment', data = df, hue=\"sentiment\")"
   ]
  },
  {
   "cell_type": "code",
   "execution_count": 8,
   "metadata": {},
   "outputs": [],
   "source": [
    "df[\"sentence\"]= df.sentence.apply(lambda x: preprocessing(str(x)))"
   ]
  },
  {
   "cell_type": "code",
   "execution_count": 9,
   "metadata": {},
   "outputs": [],
   "source": [
    "df.reset_index(drop=True,inplace=True)"
   ]
  },
  {
   "cell_type": "code",
   "execution_count": 10,
   "metadata": {},
   "outputs": [
    {
     "data": {
      "text/html": [
       "<div>\n",
       "<style scoped>\n",
       "    .dataframe tbody tr th:only-of-type {\n",
       "        vertical-align: middle;\n",
       "    }\n",
       "\n",
       "    .dataframe tbody tr th {\n",
       "        vertical-align: top;\n",
       "    }\n",
       "\n",
       "    .dataframe thead th {\n",
       "        text-align: right;\n",
       "    }\n",
       "</style>\n",
       "<table border=\"1\" class=\"dataframe\">\n",
       "  <thead>\n",
       "    <tr style=\"text-align: right;\">\n",
       "      <th></th>\n",
       "      <th>Unnamed: 0</th>\n",
       "      <th>Unnamed: 1</th>\n",
       "      <th>Unnamed: 2</th>\n",
       "      <th>sentence</th>\n",
       "      <th>sentiment</th>\n",
       "    </tr>\n",
       "  </thead>\n",
       "  <tbody>\n",
       "    <tr>\n",
       "      <th>0</th>\n",
       "      <td>0</td>\n",
       "      <td>NaN</td>\n",
       "      <td>NaN</td>\n",
       "      <td>ওয়ও আমি গর্বিত বাঙ্গালি</td>\n",
       "      <td>1</td>\n",
       "    </tr>\n",
       "    <tr>\n",
       "      <th>1</th>\n",
       "      <td>1</td>\n",
       "      <td>NaN</td>\n",
       "      <td>NaN</td>\n",
       "      <td>বাংলাদেশ এর কিছু মানুষ নিজে কিছু করতে পারবেনা ...</td>\n",
       "      <td>0</td>\n",
       "    </tr>\n",
       "    <tr>\n",
       "      <th>2</th>\n",
       "      <td>2</td>\n",
       "      <td>NaN</td>\n",
       "      <td>NaN</td>\n",
       "      <td>রামোসের ঘুম আসে না</td>\n",
       "      <td>0</td>\n",
       "    </tr>\n",
       "    <tr>\n",
       "      <th>3</th>\n",
       "      <td>3</td>\n",
       "      <td>NaN</td>\n",
       "      <td>NaN</td>\n",
       "      <td>কোহলির প্রতি শ্রদ্ধা হারিয়ে ফেলছি</td>\n",
       "      <td>1</td>\n",
       "    </tr>\n",
       "    <tr>\n",
       "      <th>4</th>\n",
       "      <td>4</td>\n",
       "      <td>NaN</td>\n",
       "      <td>NaN</td>\n",
       "      <td>থ্যাঙ্ক ইউ মাছরাঙ্গা টেলিভিশনকিন্তু ছাপোষা আন্...</td>\n",
       "      <td>0</td>\n",
       "    </tr>\n",
       "    <tr>\n",
       "      <th>...</th>\n",
       "      <td>...</td>\n",
       "      <td>...</td>\n",
       "      <td>...</td>\n",
       "      <td>...</td>\n",
       "      <td>...</td>\n",
       "    </tr>\n",
       "    <tr>\n",
       "      <th>6647</th>\n",
       "      <td>6647</td>\n",
       "      <td>NaN</td>\n",
       "      <td>NaN</td>\n",
       "      <td>আমি কখনো আশা করিনি যে আমি আমার স্বপ্নের প্রিয় ...</td>\n",
       "      <td>1</td>\n",
       "    </tr>\n",
       "    <tr>\n",
       "      <th>6648</th>\n",
       "      <td>6648</td>\n",
       "      <td>NaN</td>\n",
       "      <td>NaN</td>\n",
       "      <td>মিডিয়া লিটনকে একজন খারাপ মানুষ হিসেবে প্রতিষ্ঠ...</td>\n",
       "      <td>0</td>\n",
       "    </tr>\n",
       "    <tr>\n",
       "      <th>6649</th>\n",
       "      <td>6649</td>\n",
       "      <td>NaN</td>\n",
       "      <td>NaN</td>\n",
       "      <td>বাংলাদেশের জন্ম কিংবা তার পূর্বের ইতিহাস অনেকে...</td>\n",
       "      <td>0</td>\n",
       "    </tr>\n",
       "    <tr>\n",
       "      <th>6650</th>\n",
       "      <td>6650</td>\n",
       "      <td>NaN</td>\n",
       "      <td>NaN</td>\n",
       "      <td>আপনারা সিম নিবন্দন করালেন বাংলাদেশে অপরাধ কমবে...</td>\n",
       "      <td>0</td>\n",
       "    </tr>\n",
       "    <tr>\n",
       "      <th>6651</th>\n",
       "      <td>6651</td>\n",
       "      <td>NaN</td>\n",
       "      <td>NaN</td>\n",
       "      <td>কত দিন যে মোবাইল ছুড়ে ফেলতে ইচ্ছা হয়েছে তার ...</td>\n",
       "      <td>0</td>\n",
       "    </tr>\n",
       "  </tbody>\n",
       "</table>\n",
       "<p>6652 rows × 5 columns</p>\n",
       "</div>"
      ],
      "text/plain": [
       "      Unnamed: 0  Unnamed: 1  Unnamed: 2  \\\n",
       "0              0         NaN         NaN   \n",
       "1              1         NaN         NaN   \n",
       "2              2         NaN         NaN   \n",
       "3              3         NaN         NaN   \n",
       "4              4         NaN         NaN   \n",
       "...          ...         ...         ...   \n",
       "6647        6647         NaN         NaN   \n",
       "6648        6648         NaN         NaN   \n",
       "6649        6649         NaN         NaN   \n",
       "6650        6650         NaN         NaN   \n",
       "6651        6651         NaN         NaN   \n",
       "\n",
       "                                               sentence  sentiment  \n",
       "0                               ওয়ও আমি গর্বিত বাঙ্গালি          1  \n",
       "1     বাংলাদেশ এর কিছু মানুষ নিজে কিছু করতে পারবেনা ...          0  \n",
       "2                                    রামোসের ঘুম আসে না          0  \n",
       "3                     কোহলির প্রতি শ্রদ্ধা হারিয়ে ফেলছি          1  \n",
       "4     থ্যাঙ্ক ইউ মাছরাঙ্গা টেলিভিশনকিন্তু ছাপোষা আন্...          0  \n",
       "...                                                 ...        ...  \n",
       "6647  আমি কখনো আশা করিনি যে আমি আমার স্বপ্নের প্রিয় ...          1  \n",
       "6648  মিডিয়া লিটনকে একজন খারাপ মানুষ হিসেবে প্রতিষ্ঠ...          0  \n",
       "6649  বাংলাদেশের জন্ম কিংবা তার পূর্বের ইতিহাস অনেকে...          0  \n",
       "6650  আপনারা সিম নিবন্দন করালেন বাংলাদেশে অপরাধ কমবে...          0  \n",
       "6651  কত দিন যে মোবাইল ছুড়ে ফেলতে ইচ্ছা হয়েছে তার ...          0  \n",
       "\n",
       "[6652 rows x 5 columns]"
      ]
     },
     "execution_count": 10,
     "metadata": {},
     "output_type": "execute_result"
    }
   ],
   "source": [
    "df"
   ]
  },
  {
   "cell_type": "code",
   "execution_count": 11,
   "metadata": {},
   "outputs": [
    {
     "name": "stdout",
     "output_type": "stream",
     "text": [
      "Training Set Length: 5321\n",
      "Testing Set Length: 1331\n",
      "training_sentences shape: (5321,)\n",
      "testing_sentences shape: (1331,)\n",
      "train_labels shape: (5321, 2)\n",
      "test_labels shape: (1331, 2)\n"
     ]
    }
   ],
   "source": [
    "train1, test1= train_test_split(df,random_state=42,test_size=0.2)\n",
    "training_sentences=[]\n",
    "testing_sentences=[]\n",
    "\n",
    "\n",
    "\n",
    "train_sentences=train1['sentence'].values\n",
    "train_labels=train1['sentiment'].values\n",
    "\n",
    "for i in range(train_sentences.shape[0]):\n",
    "    x=str(train_sentences[i])\n",
    "    training_sentences.append(x)\n",
    "training_sentences=np.array(training_sentences)\n",
    "\n",
    "\n",
    "\n",
    "test_sentences=test1['sentence'].values\n",
    "test_labels=test1['sentiment'].values\n",
    "\n",
    "for i in range(test_sentences.shape[0]):\n",
    "    x=str(test_sentences[i])\n",
    "    testing_sentences.append(x)\n",
    "\n",
    "testing_sentences=np.array(testing_sentences)\n",
    "\n",
    "train_labels=tf.keras.utils.to_categorical(train_labels)\n",
    "\n",
    "test_labels=tf.keras.utils.to_categorical(test_labels)\n",
    "\n",
    "print(\"Training Set Length: \"+str(len(train1)))\n",
    "print(\"Testing Set Length: \"+str(len(test1)))\n",
    "print(\"training_sentences shape: \"+str(training_sentences.shape))\n",
    "print(\"testing_sentences shape: \"+str(testing_sentences.shape))\n",
    "print(\"train_labels shape: \"+str(train_labels.shape))\n",
    "print(\"test_labels shape: \"+str(test_labels.shape))\n",
    "\n",
    "\n"
   ]
  },
  {
   "cell_type": "code",
   "execution_count": 12,
   "metadata": {},
   "outputs": [
    {
     "name": "stdout",
     "output_type": "stream",
     "text": [
      "['তার কত টাকা অথচ আমার সাভাবিক ভাবে বেচে থাকার টাকা নাই বললেই চলে সত্যি পৃথীবি টা অদভুত'\n",
      " 'মূলত তাঁর প্রয়াসেই বাংলাদেশ ক্রিকেটে এতকিছু পেয়েছে তাঁর হাত ধরেই বাংলাদেশ একদিন স্বপ্নের সোনালি সিঁড়ি বেয়ে বিশ্বকে দেখিয়ে বিশ্বকাপ নিয়ে আসবে আর সারা বিশ্ব সাকিবের নামে বিজয়ের স্লোগান দিবে'\n",
      " 'কারাগারে বিলাসী জীবন কাটছিল মুফতি হান্নানের' ...\n",
      " 'খারাপ মানুষের অত্যাচারের জন্য এই পৃথিবী ধ্বংস হচ্ছে না এই পৃথিবী ধ্বংস হচ্ছে ভাল মানুষ গুলোর নীরবতার জন্য'\n",
      " 'হ্যাকার দের ঈদ শুরু হয়ে যাবে'\n",
      " 'গ্রামীণ টেলিকম তার পল্লী ফোন কর্মসূচির মাধ্যমে গ্রামের দরিদ্র নারী উদ্যোক্তাদের গ্রামাঞ্চলে টেলিফোন সেবা বিক্রির সুবিধা দিয়ে থাকে গ্রামীণ টেলিকমই পৃথিবীর ইতিহাসে প্রথম দরিদ্র মানুষের কাছে বিশেষ করে নারীদের কাছে ও গ্রামাঞ্চলে টেলিফোন সেবা পৌঁছে দেওয়ার নজির স্থাপন করেছে']\n"
     ]
    }
   ],
   "source": [
    "print(train_sentences)"
   ]
  },
  {
   "cell_type": "code",
   "execution_count": 13,
   "metadata": {},
   "outputs": [
    {
     "name": "stdout",
     "output_type": "stream",
     "text": [
      "মূলত তাঁর প্রয়াসেই বাংলাদেশ ক্রিকেটে এতকিছু পেয়েছে তাঁর হাত ধরেই বাংলাদেশ একদিন স্বপ্নের সোনালি সিঁড়ি বেয়ে বিশ্বকে দেখিয়ে বিশ্বকাপ নিয়ে আসবে আর সারা বিশ্ব সাকিবের নামে বিজয়ের স্লোগান দিবে\n",
      "[1. 0.]\n"
     ]
    }
   ],
   "source": [
    "print(training_sentences[1])\n",
    "print(train_labels[0])"
   ]
  },
  {
   "cell_type": "code",
   "execution_count": 14,
   "metadata": {},
   "outputs": [],
   "source": [
    "vocab_size=25000\n",
    "embedding_dim=300\n",
    "max_length=100\n",
    "trunc_type='post'\n",
    "oov_tok='<OOV>'"
   ]
  },
  {
   "cell_type": "code",
   "execution_count": 15,
   "metadata": {},
   "outputs": [
    {
     "name": "stdout",
     "output_type": "stream",
     "text": [
      "(5321,)\n",
      "(5321, 2)\n"
     ]
    }
   ],
   "source": [
    "print(training_sentences.shape)\n",
    "print(train_labels.shape)"
   ]
  },
  {
   "cell_type": "code",
   "execution_count": 16,
   "metadata": {},
   "outputs": [
    {
     "name": "stdout",
     "output_type": "stream",
     "text": [
      "18442\n",
      "word index length : 18442\n"
     ]
    }
   ],
   "source": [
    "tokenizer=Tokenizer(num_words=vocab_size,oov_token=oov_tok)\n",
    "tokenizer.fit_on_texts(training_sentences)\n",
    "word_index=tokenizer.word_index\n",
    "print(len(word_index))\n",
    "print(\"word index length : \"+str(len(tokenizer.word_index)))\n",
    "sequences=tokenizer.texts_to_sequences(training_sentences)\n",
    "padded=pad_sequences(sequences,maxlen=max_length,truncating=trunc_type)\n",
    "\n",
    "\n",
    "test_sequences= tokenizer.texts_to_sequences(testing_sentences)\n",
    "testing_padded=pad_sequences(test_sequences, maxlen=max_length)"
   ]
  },
  {
   "cell_type": "code",
   "execution_count": 17,
   "metadata": {},
   "outputs": [
    {
     "name": "stdout",
     "output_type": "stream",
     "text": [
      "Sentence :--> \n",
      "\n",
      "কারাগারে বিলাসী জীবন কাটছিল মুফতি হান্নানের\n",
      "\n",
      "Sentence Tokenized and Converted into Sequence :--> \n",
      "\n",
      "[6842, 6843, 235, 6844, 6845, 4363]\n",
      "\n",
      "After Padding the Sequence with padding length 100 :--> \n",
      "\n",
      "[   0    0    0    0    0    0    0    0    0    0    0    0    0    0\n",
      "    0    0    0    0    0    0    0    0    0    0    0    0    0    0\n",
      "    0    0    0    0    0    0    0    0    0    0    0    0    0    0\n",
      "    0    0    0    0    0    0    0    0    0    0    0    0    0    0\n",
      "    0    0    0    0    0    0    0    0    0    0    0    0    0    0\n",
      "    0    0    0    0    0    0    0    0    0    0    0    0    0    0\n",
      "    0    0    0    0    0    0    0    0    0    0 6842 6843  235 6844\n",
      " 6845 4363]\n"
     ]
    }
   ],
   "source": [
    "print(\"Sentence :--> \\n\")\n",
    "print(training_sentences[2]+\"\\n\")\n",
    "print(\"Sentence Tokenized and Converted into Sequence :--> \\n\")\n",
    "print(str(sequences[2])+\"\\n\")\n",
    "print(\"After Padding the Sequence with padding length 100 :--> \\n\")\n",
    "print(padded[2])"
   ]
  },
  {
   "cell_type": "code",
   "execution_count": 18,
   "metadata": {},
   "outputs": [
    {
     "name": "stdout",
     "output_type": "stream",
     "text": [
      "Padded shape(training) :(5321, 100)\n",
      "Padded shape(testing) :(1331, 100)\n"
     ]
    }
   ],
   "source": [
    "print(\"Padded shape(training) :\" + str(padded.shape))\n",
    "print(\"Padded shape(testing) :\" + str(testing_padded.shape))"
   ]
  },
  {
   "cell_type": "code",
   "execution_count": 19,
   "metadata": {},
   "outputs": [
    {
     "name": "stdout",
     "output_type": "stream",
     "text": [
      "[[   0    0    0 ... 6838   95 6839]\n",
      " [   0    0    0 ... 4362 3270  216]\n",
      " [   0    0    0 ... 6844 6845 4363]\n",
      " ...\n",
      " [   0    0    0 ...  872 5645    6]\n",
      " [   0    0    0 ...  150   41  109]\n",
      " [   0    0    0 ... 3040 6272  105]]\n"
     ]
    }
   ],
   "source": [
    "print(padded)"
   ]
  },
  {
   "cell_type": "code",
   "execution_count": 20,
   "metadata": {},
   "outputs": [
    {
     "name": "stdout",
     "output_type": "stream",
     "text": [
      "Model: \"sequential\"\n",
      "_________________________________________________________________\n",
      " Layer (type)                Output Shape              Param #   \n",
      "=================================================================\n",
      " embedding (Embedding)       (None, 100, 300)          7500000   \n",
      "                                                                 \n",
      " conv1d (Conv1D)             (None, 98, 200)           180200    \n",
      "                                                                 \n",
      " bidirectional (Bidirection  (None, 98, 128)           135680    \n",
      " al)                                                             \n",
      "                                                                 \n",
      " dropout (Dropout)           (None, 98, 128)           0         \n",
      "                                                                 \n",
      " bidirectional_1 (Bidirecti  (None, 128)               98816     \n",
      " onal)                                                           \n",
      "                                                                 \n",
      " dense (Dense)               (None, 50)                6450      \n",
      "                                                                 \n",
      " dense_1 (Dense)             (None, 50)                2550      \n",
      "                                                                 \n",
      " flatten (Flatten)           (None, 50)                0         \n",
      "                                                                 \n",
      " dense_2 (Dense)             (None, 100)               5100      \n",
      "                                                                 \n",
      " dense_3 (Dense)             (None, 2)                 202       \n",
      "                                                                 \n",
      "=================================================================\n",
      "Total params: 7928998 (30.25 MB)\n",
      "Trainable params: 7928998 (30.25 MB)\n",
      "Non-trainable params: 0 (0.00 Byte)\n",
      "_________________________________________________________________\n"
     ]
    }
   ],
   "source": [
    "# Model creation \n",
    "with tf.device('/gpu:0'):\n",
    "    model=Sequential()\n",
    "    model.add(Embedding(vocab_size, embedding_dim, input_length=max_length))\n",
    "    model.add(Conv1D(200, kernel_size=3, activation=\"relu\"))\n",
    "    model.add(Bidirectional(LSTM(64, return_sequences=True)))\n",
    "    model.add(Dropout(0.5))\n",
    "    model.add(Bidirectional(LSTM(64)))\n",
    "    model.add(Dense(50,activation='relu'))\n",
    "    model.add(Dense(50,activation='relu'))\n",
    "    model.add(Flatten())\n",
    "\n",
    "\n",
    "    #l2 regularizer\n",
    "    model.add(Dense(100, kernel_regularizer=regularizers.l2(0.01),activation='relu'))\n",
    "    model.add(Dense(2, activation='softmax'))\n",
    "    adam=Adam(learning_rate=0.0005,beta_1=0.9,beta_2=0.999,epsilon=1e-07,amsgrad=False)\n",
    "    model.summary()\n",
    "    model.compile(loss='categorical_crossentropy', optimizer= adam, metrics=['accuracy'])\n",
    "\n",
    "\n",
    "\n",
    "\n"
   ]
  },
  {
   "cell_type": "code",
   "execution_count": 21,
   "metadata": {},
   "outputs": [
    {
     "name": "stdout",
     "output_type": "stream",
     "text": [
      "Epoch 1/5\n",
      "21/21 [==============================] - 51s 2s/step - loss: 1.3118 - accuracy: 0.5401 - val_loss: 1.2397 - val_accuracy: 0.6078\n",
      "Epoch 2/5\n",
      "21/21 [==============================] - 35s 2s/step - loss: 1.1061 - accuracy: 0.7016 - val_loss: 0.9362 - val_accuracy: 0.8047\n",
      "Epoch 3/5\n",
      "21/21 [==============================] - 37s 2s/step - loss: 0.7014 - accuracy: 0.9115 - val_loss: 0.8199 - val_accuracy: 0.8340\n",
      "Epoch 4/5\n",
      "21/21 [==============================] - 37s 2s/step - loss: 0.4929 - accuracy: 0.9669 - val_loss: 0.8439 - val_accuracy: 0.8520\n",
      "Epoch 5/5\n",
      "21/21 [==============================] - 39s 2s/step - loss: 0.3714 - accuracy: 0.9906 - val_loss: 0.8697 - val_accuracy: 0.8573\n"
     ]
    }
   ],
   "source": [
    "history= model.fit(padded,train_labels, epochs=5, batch_size=256,validation_data=(testing_padded,test_labels),use_multiprocessing= True, workers=8)\n"
   ]
  },
  {
   "cell_type": "code",
   "execution_count": 22,
   "metadata": {},
   "outputs": [
    {
     "name": "stdout",
     "output_type": "stream",
     "text": [
      "dict_keys(['loss', 'accuracy', 'val_loss', 'val_accuracy'])\n"
     ]
    },
    {
     "data": {
      "image/png": "[encoded data removed]",
      "text/plain": [
       "<Figure size 640x480 with 1 Axes>"
      ]
     },
     "metadata": {},
     "output_type": "display_data"
    },
    {
     "data": {
      "image/png": "[encoded data removed]",
      "text/plain": [
       "<Figure size 640x480 with 1 Axes>"
      ]
     },
     "metadata": {},
     "output_type": "display_data"
    }
   ],
   "source": [
    "#Visualization\n",
    "print(history.history.keys())\n",
    "loss = history.history['loss']\n",
    "val_loss = history.history['val_loss']\n",
    "plt.plot(loss)\n",
    "plt.plot(val_loss)\n",
    "plt.title('model loss')\n",
    "plt.ylabel('loss')\n",
    "plt.xlabel('epoch')\n",
    "plt.legend(['loss', 'val_loss'])\n",
    "plt.show()\n",
    "\n",
    "accuracy = history.history['accuracy']\n",
    "val_accuracy= history.history['val_accuracy']\n",
    "plt.plot(accuracy)\n",
    "plt.plot(val_accuracy)\n",
    "plt.title('model accuracy')\n",
    "plt.ylabel('accuracy')\n",
    "plt.xlabel('epoch')\n",
    "plt.legend(['accuracy', 'val_accuracy'])\n",
    "plt.show()"
   ]
  },
  {
   "cell_type": "code",
   "execution_count": 23,
   "metadata": {},
   "outputs": [
    {
     "name": "stdout",
     "output_type": "stream",
     "text": [
      "21/21 [==============================] - 8s 385ms/step - loss: 0.3266 - accuracy: 0.9968\n",
      "The train accuracy is: 0.9968051314353943\n",
      "6/6 [==============================] - 2s 335ms/step - loss: 0.8697 - accuracy: 0.8573\n",
      "The test accuracy is: 0.8572502136230469\n"
     ]
    }
   ],
   "source": [
    "loss_and_metrics=model.evaluate(padded,train_labels,batch_size=256)\n",
    "print(\"The train accuracy is: \"+str(loss_and_metrics[1]))\n",
    "loss_and_metrics = model.evaluate(testing_padded,test_labels,batch_size=256)\n",
    "print(\"The test accuracy is: \"+str(loss_and_metrics[1]))"
   ]
  },
  {
   "cell_type": "markdown",
   "metadata": {},
   "source": [
    "# For SVM"
   ]
  },
  {
   "cell_type": "code",
   "execution_count": 24,
   "metadata": {},
   "outputs": [
    {
     "name": "stdout",
     "output_type": "stream",
     "text": [
      "Requirement already satisfied: spacy in c:\\users\\user\\anaconda3\\envs\\env_python3.9\\lib\\site-packages (3.7.2)\n",
      "Requirement already satisfied: spacy-legacy<3.1.0,>=3.0.11 in c:\\users\\user\\anaconda3\\envs\\env_python3.9\\lib\\site-packages (from spacy) (3.0.12)\n",
      "Requirement already satisfied: spacy-loggers<2.0.0,>=1.0.0 in c:\\users\\user\\anaconda3\\envs\\env_python3.9\\lib\\site-packages (from spacy) (1.0.5)\n",
      "Requirement already satisfied: murmurhash<1.1.0,>=0.28.0 in c:\\users\\user\\anaconda3\\envs\\env_python3.9\\lib\\site-packages (from spacy) (1.0.10)\n",
      "Requirement already satisfied: cymem<2.1.0,>=2.0.2 in c:\\users\\user\\anaconda3\\envs\\env_python3.9\\lib\\site-packages (from spacy) (2.0.8)\n",
      "Requirement already satisfied: preshed<3.1.0,>=3.0.2 in c:\\users\\user\\anaconda3\\envs\\env_python3.9\\lib\\site-packages (from spacy) (3.0.9)\n",
      "Requirement already satisfied: thinc<8.3.0,>=8.1.8 in c:\\users\\user\\anaconda3\\envs\\env_python3.9\\lib\\site-packages (from spacy) (8.2.1)\n",
      "Requirement already satisfied: wasabi<1.2.0,>=0.9.1 in c:\\users\\user\\anaconda3\\envs\\env_python3.9\\lib\\site-packages (from spacy) (1.1.2)\n",
      "Requirement already satisfied: srsly<3.0.0,>=2.4.3 in c:\\users\\user\\anaconda3\\envs\\env_python3.9\\lib\\site-packages (from spacy) (2.4.8)\n",
      "Requirement already satisfied: catalogue<2.1.0,>=2.0.6 in c:\\users\\user\\anaconda3\\envs\\env_python3.9\\lib\\site-packages (from spacy) (2.0.10)\n",
      "Requirement already satisfied: weasel<0.4.0,>=0.1.0 in c:\\users\\user\\anaconda3\\envs\\env_python3.9\\lib\\site-packages (from spacy) (0.3.4)\n",
      "Requirement already satisfied: typer<0.10.0,>=0.3.0 in c:\\users\\user\\anaconda3\\envs\\env_python3.9\\lib\\site-packages (from spacy) (0.9.0)\n",
      "Requirement already satisfied: smart-open<7.0.0,>=5.2.1 in c:\\users\\user\\anaconda3\\envs\\env_python3.9\\lib\\site-packages (from spacy) (6.4.0)\n",
      "Requirement already satisfied: tqdm<5.0.0,>=4.38.0 in c:\\users\\user\\anaconda3\\envs\\env_python3.9\\lib\\site-packages (from spacy) (4.66.1)\n",
      "Requirement already satisfied: requests<3.0.0,>=2.13.0 in c:\\users\\user\\anaconda3\\envs\\env_python3.9\\lib\\site-packages (from spacy) (2.31.0)\n",
      "Requirement already satisfied: pydantic!=1.8,!=1.8.1,<3.0.0,>=1.7.4 in c:\\users\\user\\anaconda3\\envs\\env_python3.9\\lib\\site-packages (from spacy) (2.4.2)\n",
      "Requirement already satisfied: jinja2 in c:\\users\\user\\anaconda3\\envs\\env_python3.9\\lib\\site-packages (from spacy) (3.1.2)\n",
      "Requirement already satisfied: setuptools in c:\\users\\user\\anaconda3\\envs\\env_python3.9\\lib\\site-packages (from spacy) (68.0.0)\n",
      "Requirement already satisfied: packaging>=20.0 in c:\\users\\user\\anaconda3\\envs\\env_python3.9\\lib\\site-packages (from spacy) (23.2)\n",
      "Requirement already satisfied: langcodes<4.0.0,>=3.2.0 in c:\\users\\user\\anaconda3\\envs\\env_python3.9\\lib\\site-packages (from spacy) (3.3.0)\n",
      "Requirement already satisfied: numpy>=1.19.0 in c:\\users\\user\\anaconda3\\envs\\env_python3.9\\lib\\site-packages (from spacy) (1.26.1)\n",
      "Requirement already satisfied: annotated-types>=0.4.0 in c:\\users\\user\\anaconda3\\envs\\env_python3.9\\lib\\site-packages (from pydantic!=1.8,!=1.8.1,<3.0.0,>=1.7.4->spacy) (0.6.0)\n",
      "Requirement already satisfied: pydantic-core==2.10.1 in c:\\users\\user\\anaconda3\\envs\\env_python3.9\\lib\\site-packages (from pydantic!=1.8,!=1.8.1,<3.0.0,>=1.7.4->spacy) (2.10.1)\n",
      "Requirement already satisfied: typing-extensions>=4.6.1 in c:\\users\\user\\anaconda3\\envs\\env_python3.9\\lib\\site-packages (from pydantic!=1.8,!=1.8.1,<3.0.0,>=1.7.4->spacy) (4.8.0)\n",
      "Requirement already satisfied: charset-normalizer<4,>=2 in c:\\users\\user\\anaconda3\\envs\\env_python3.9\\lib\\site-packages (from requests<3.0.0,>=2.13.0->spacy) (3.3.0)\n",
      "Requirement already satisfied: idna<4,>=2.5 in c:\\users\\user\\anaconda3\\envs\\env_python3.9\\lib\\site-packages (from requests<3.0.0,>=2.13.0->spacy) (3.4)\n",
      "Requirement already satisfied: urllib3<3,>=1.21.1 in c:\\users\\user\\anaconda3\\envs\\env_python3.9\\lib\\site-packages (from requests<3.0.0,>=2.13.0->spacy) (2.0.7)\n",
      "Requirement already satisfied: certifi>=2017.4.17 in c:\\users\\user\\anaconda3\\envs\\env_python3.9\\lib\\site-packages (from requests<3.0.0,>=2.13.0->spacy) (2023.7.22)\n",
      "Requirement already satisfied: blis<0.8.0,>=0.7.8 in c:\\users\\user\\anaconda3\\envs\\env_python3.9\\lib\\site-packages (from thinc<8.3.0,>=8.1.8->spacy) (0.7.11)\n",
      "Requirement already satisfied: confection<1.0.0,>=0.0.1 in c:\\users\\user\\anaconda3\\envs\\env_python3.9\\lib\\site-packages (from thinc<8.3.0,>=8.1.8->spacy) (0.1.3)\n",
      "Requirement already satisfied: colorama in c:\\users\\user\\anaconda3\\envs\\env_python3.9\\lib\\site-packages (from tqdm<5.0.0,>=4.38.0->spacy) (0.4.6)\n",
      "Requirement already satisfied: click<9.0.0,>=7.1.1 in c:\\users\\user\\anaconda3\\envs\\env_python3.9\\lib\\site-packages (from typer<0.10.0,>=0.3.0->spacy) (8.1.7)\n",
      "Requirement already satisfied: cloudpathlib<0.17.0,>=0.7.0 in c:\\users\\user\\anaconda3\\envs\\env_python3.9\\lib\\site-packages (from weasel<0.4.0,>=0.1.0->spacy) (0.16.0)\n",
      "Requirement already satisfied: MarkupSafe>=2.0 in c:\\users\\user\\anaconda3\\envs\\env_python3.9\\lib\\site-packages (from jinja2->spacy) (2.1.3)\n",
      "Note: you may need to restart the kernel to use updated packages.\n"
     ]
    }
   ],
   "source": [
    "pip install spacy\n"
   ]
  },
  {
   "cell_type": "code",
   "execution_count": 25,
   "metadata": {},
   "outputs": [],
   "source": [
    "from sklearn.feature_extraction.text import CountVectorizer\n",
    "# from nltk.corpus import stopwords\n",
    "from spacy.lang.de.stop_words import STOP_WORDS\n",
    "from nltk.tokenize import TweetTokenizer\n",
    "from nltk.stem import SnowballStemmer\n",
    "# from nltk.stem import *\n",
    "\n",
    "\n",
    "def tokenize(text): \n",
    "    tknzr = TweetTokenizer()\n",
    "    return tknzr.tokenize(text)\n",
    "\n",
    "def stem(doc):\n",
    "    return (stemmer.stem(w) for w in analyzer(doc))\n",
    "\n",
    "\n",
    "# en_stopwords = set(stopwords.words(\"english\")) \n",
    "en_stopwords = list(STOP_WORDS) \n",
    "\n",
    "vectorizer=CountVectorizer(analyzer='word',\n",
    "                           tokenizer=tokenize,\n",
    "                           lowercase=True,\n",
    "                           ngram_range=(1,1),\n",
    "                           stop_words=en_stopwords)\n"
   ]
  },
  {
   "cell_type": "code",
   "execution_count": 26,
   "metadata": {},
   "outputs": [],
   "source": [
    "from sklearn.model_selection import StratifiedKFold\n",
    "kfolds = StratifiedKFold(n_splits=5, shuffle=True, random_state=1)"
   ]
  },
  {
   "cell_type": "code",
   "execution_count": 27,
   "metadata": {},
   "outputs": [],
   "source": [
    "from sklearn.pipeline import make_pipeline, Pipeline\n",
    "from sklearn.model_selection import GridSearchCV\n",
    "from sklearn.svm import SVC\n",
    "\n"
   ]
  },
  {
   "cell_type": "code",
   "execution_count": 28,
   "metadata": {},
   "outputs": [],
   "source": [
    "np.random.seed(1)\n",
    "\n",
    "\n",
    "Pipeline_svm=make_pipeline(vectorizer,SVC(probability=True,kernel='linear',class_weight='balanced'))\n",
    "\n",
    "grid_svm=GridSearchCV(Pipeline_svm,\n",
    "                    param_grid = {'svc__C': [0.01, 0.1, 1]}, \n",
    "                    cv = kfolds,\n",
    "                    scoring=\"roc_auc\",\n",
    "                    verbose=1,   \n",
    "                    n_jobs=-1)\n",
    "\n",
    "train_labels_new=train1['sentiment'].values\n"
   ]
  },
  {
   "cell_type": "code",
   "execution_count": 29,
   "metadata": {},
   "outputs": [
    {
     "name": "stdout",
     "output_type": "stream",
     "text": [
      "Fitting 5 folds for each of 3 candidates, totalling 15 fits\n"
     ]
    },
    {
     "name": "stderr",
     "output_type": "stream",
     "text": [
      "c:\\Users\\user\\anaconda3\\envs\\env_python3.9\\lib\\site-packages\\sklearn\\feature_extraction\\text.py:525: UserWarning: The parameter 'token_pattern' will not be used since 'tokenizer' is not None'\n",
      "  warnings.warn(\n"
     ]
    },
    {
     "data": {
      "text/html": [
       "<style>#sk-container-id-1 {color: black;}#sk-container-id-1 pre{padding: 0;}#sk-container-id-1 div.sk-toggleable {background-color: white;}#sk-container-id-1 label.sk-toggleable__label {cursor: pointer;display: block;width: 100%;margin-bottom: 0;padding: 0.3em;box-sizing: border-box;text-align: center;}#sk-container-id-1 label.sk-toggleable__label-arrow:before {content: \"▸\";float: left;margin-right: 0.25em;color: #696969;}#sk-container-id-1 label.sk-toggleable__label-arrow:hover:before {color: black;}#sk-container-id-1 div.sk-estimator:hover label.sk-toggleable__label-arrow:before {color: black;}#sk-container-id-1 div.sk-toggleable__content {max-height: 0;max-width: 0;overflow: hidden;text-align: left;background-color: #f0f8ff;}#sk-container-id-1 div.sk-toggleable__content pre {margin: 0.2em;color: black;border-radius: 0.25em;background-color: #f0f8ff;}#sk-container-id-1 input.sk-toggleable__control:checked~div.sk-toggleable__content {max-height: 200px;max-width: 100%;overflow: auto;}#sk-container-id-1 input.sk-toggleable__control:checked~label.sk-toggleable__label-arrow:before {content: \"▾\";}#sk-container-id-1 div.sk-estimator input.sk-toggleable__control:checked~label.sk-toggleable__label {background-color: #d4ebff;}#sk-container-id-1 div.sk-label input.sk-toggleable__control:checked~label.sk-toggleable__label {background-color: #d4ebff;}#sk-container-id-1 input.sk-hidden--visually {border: 0;clip: rect(1px 1px 1px 1px);clip: rect(1px, 1px, 1px, 1px);height: 1px;margin: -1px;overflow: hidden;padding: 0;position: absolute;width: 1px;}#sk-container-id-1 div.sk-estimator {font-family: monospace;background-color: #f0f8ff;border: 1px dotted black;border-radius: 0.25em;box-sizing: border-box;margin-bottom: 0.5em;}#sk-container-id-1 div.sk-estimator:hover {background-color: #d4ebff;}#sk-container-id-1 div.sk-parallel-item::after {content: \"\";width: 100%;border-bottom: 1px solid gray;flex-grow: 1;}#sk-container-id-1 div.sk-label:hover label.sk-toggleable__label {background-color: #d4ebff;}#sk-container-id-1 div.sk-serial::before {content: \"\";position: absolute;border-left: 1px solid gray;box-sizing: border-box;top: 0;bottom: 0;left: 50%;z-index: 0;}#sk-container-id-1 div.sk-serial {display: flex;flex-direction: column;align-items: center;background-color: white;padding-right: 0.2em;padding-left: 0.2em;position: relative;}#sk-container-id-1 div.sk-item {position: relative;z-index: 1;}#sk-container-id-1 div.sk-parallel {display: flex;align-items: stretch;justify-content: center;background-color: white;position: relative;}#sk-container-id-1 div.sk-item::before, #sk-container-id-1 div.sk-parallel-item::before {content: \"\";position: absolute;border-left: 1px solid gray;box-sizing: border-box;top: 0;bottom: 0;left: 50%;z-index: -1;}#sk-container-id-1 div.sk-parallel-item {display: flex;flex-direction: column;z-index: 1;position: relative;background-color: white;}#sk-container-id-1 div.sk-parallel-item:first-child::after {align-self: flex-end;width: 50%;}#sk-container-id-1 div.sk-parallel-item:last-child::after {align-self: flex-start;width: 50%;}#sk-container-id-1 div.sk-parallel-item:only-child::after {width: 0;}#sk-container-id-1 div.sk-dashed-wrapped {border: 1px dashed gray;margin: 0 0.4em 0.5em 0.4em;box-sizing: border-box;padding-bottom: 0.4em;background-color: white;}#sk-container-id-1 div.sk-label label {font-family: monospace;font-weight: bold;display: inline-block;line-height: 1.2em;}#sk-container-id-1 div.sk-label-container {text-align: center;}#sk-container-id-1 div.sk-container {/* jupyter's `normalize.less` sets `[hidden] { display: none; }` but bootstrap.min.css set `[hidden] { display: none !important; }` so we also need the `!important` here to be able to override the default hidden behavior on the sphinx rendered scikit-learn.org. See: https://github.com/scikit-learn/scikit-learn/issues/21755 */display: inline-block !important;position: relative;}#sk-container-id-1 div.sk-text-repr-fallback {display: none;}</style><div id=\"sk-container-id-1\" class=\"sk-top-container\"><div class=\"sk-text-repr-fallback\"><pre>GridSearchCV(cv=StratifiedKFold(n_splits=5, random_state=1, shuffle=True),\n",
       "             estimator=Pipeline(steps=[(&#x27;countvectorizer&#x27;,\n",
       "                                        CountVectorizer(stop_words=[&#x27;wer&#x27;,\n",
       "                                                                    &#x27;dort&#x27;,\n",
       "                                                                    &#x27;als&#x27;,\n",
       "                                                                    &#x27;sollten&#x27;,\n",
       "                                                                    &#x27;dieselben&#x27;,\n",
       "                                                                    &#x27;entweder&#x27;,\n",
       "                                                                    &#x27;beiden&#x27;,\n",
       "                                                                    &#x27;fünftes&#x27;,\n",
       "                                                                    &#x27;wahr&#x27;,\n",
       "                                                                    &#x27;muß&#x27;,\n",
       "                                                                    &#x27;durften&#x27;,\n",
       "                                                                    &#x27;zehntes&#x27;,\n",
       "                                                                    &#x27;endlich&#x27;,\n",
       "                                                                    &#x27;allgemeinen&#x27;,\n",
       "                                                                    &#x27;dazu&#x27;,\n",
       "                                                                    &#x27;wen&#x27;,\n",
       "                                                                    &#x27;jemandem&#x27;,\n",
       "                                                                    &#x27;an&#x27;,\n",
       "                                                                    &#x27;ganze&#x27;,\n",
       "                                                                    &#x27;vergangene&#x27;,\n",
       "                                                                    &#x27;genug&#x27;,\n",
       "                                                                    &#x27;zugleich&#x27;,\n",
       "                                                                    &#x27;erster&#x27;,\n",
       "                                                                    &#x27;wollen&#x27;,\n",
       "                                                                    &#x27;einigen&#x27;,\n",
       "                                                                    &#x27;solang&#x27;,\n",
       "                                                                    &#x27;solche&#x27;,\n",
       "                                                                    &#x27;warum&#x27;,\n",
       "                                                                    &#x27;dürft&#x27;,\n",
       "                                                                    &#x27;gegenüber&#x27;, ...],\n",
       "                                                        tokenizer=&lt;function tokenize at 0x00000250265D3430&gt;)),\n",
       "                                       (&#x27;svc&#x27;,\n",
       "                                        SVC(class_weight=&#x27;balanced&#x27;,\n",
       "                                            kernel=&#x27;linear&#x27;,\n",
       "                                            probability=True))]),\n",
       "             n_jobs=-1, param_grid={&#x27;svc__C&#x27;: [0.01, 0.1, 1]},\n",
       "             scoring=&#x27;roc_auc&#x27;, verbose=1)</pre><b>In a Jupyter environment, please rerun this cell to show the HTML representation or trust the notebook. <br />On GitHub, the HTML representation is unable to render, please try loading this page with nbviewer.org.</b></div><div class=\"sk-container\" hidden><div class=\"sk-item sk-dashed-wrapped\"><div class=\"sk-label-container\"><div class=\"sk-label sk-toggleable\"><input class=\"sk-toggleable__control sk-hidden--visually\" id=\"sk-estimator-id-1\" type=\"checkbox\" ><label for=\"sk-estimator-id-1\" class=\"sk-toggleable__label sk-toggleable__label-arrow\">GridSearchCV</label><div class=\"sk-toggleable__content\"><pre>GridSearchCV(cv=StratifiedKFold(n_splits=5, random_state=1, shuffle=True),\n",
       "             estimator=Pipeline(steps=[(&#x27;countvectorizer&#x27;,\n",
       "                                        CountVectorizer(stop_words=[&#x27;wer&#x27;,\n",
       "                                                                    &#x27;dort&#x27;,\n",
       "                                                                    &#x27;als&#x27;,\n",
       "                                                                    &#x27;sollten&#x27;,\n",
       "                                                                    &#x27;dieselben&#x27;,\n",
       "                                                                    &#x27;entweder&#x27;,\n",
       "                                                                    &#x27;beiden&#x27;,\n",
       "                                                                    &#x27;fünftes&#x27;,\n",
       "                                                                    &#x27;wahr&#x27;,\n",
       "                                                                    &#x27;muß&#x27;,\n",
       "                                                                    &#x27;durften&#x27;,\n",
       "                                                                    &#x27;zehntes&#x27;,\n",
       "                                                                    &#x27;endlich&#x27;,\n",
       "                                                                    &#x27;allgemeinen&#x27;,\n",
       "                                                                    &#x27;dazu&#x27;,\n",
       "                                                                    &#x27;wen&#x27;,\n",
       "                                                                    &#x27;jemandem&#x27;,\n",
       "                                                                    &#x27;an&#x27;,\n",
       "                                                                    &#x27;ganze&#x27;,\n",
       "                                                                    &#x27;vergangene&#x27;,\n",
       "                                                                    &#x27;genug&#x27;,\n",
       "                                                                    &#x27;zugleich&#x27;,\n",
       "                                                                    &#x27;erster&#x27;,\n",
       "                                                                    &#x27;wollen&#x27;,\n",
       "                                                                    &#x27;einigen&#x27;,\n",
       "                                                                    &#x27;solang&#x27;,\n",
       "                                                                    &#x27;solche&#x27;,\n",
       "                                                                    &#x27;warum&#x27;,\n",
       "                                                                    &#x27;dürft&#x27;,\n",
       "                                                                    &#x27;gegenüber&#x27;, ...],\n",
       "                                                        tokenizer=&lt;function tokenize at 0x00000250265D3430&gt;)),\n",
       "                                       (&#x27;svc&#x27;,\n",
       "                                        SVC(class_weight=&#x27;balanced&#x27;,\n",
       "                                            kernel=&#x27;linear&#x27;,\n",
       "                                            probability=True))]),\n",
       "             n_jobs=-1, param_grid={&#x27;svc__C&#x27;: [0.01, 0.1, 1]},\n",
       "             scoring=&#x27;roc_auc&#x27;, verbose=1)</pre></div></div></div><div class=\"sk-parallel\"><div class=\"sk-parallel-item\"><div class=\"sk-item\"><div class=\"sk-label-container\"><div class=\"sk-label sk-toggleable\"><input class=\"sk-toggleable__control sk-hidden--visually\" id=\"sk-estimator-id-2\" type=\"checkbox\" ><label for=\"sk-estimator-id-2\" class=\"sk-toggleable__label sk-toggleable__label-arrow\">estimator: Pipeline</label><div class=\"sk-toggleable__content\"><pre>Pipeline(steps=[(&#x27;countvectorizer&#x27;,\n",
       "                 CountVectorizer(stop_words=[&#x27;wer&#x27;, &#x27;dort&#x27;, &#x27;als&#x27;, &#x27;sollten&#x27;,\n",
       "                                             &#x27;dieselben&#x27;, &#x27;entweder&#x27;, &#x27;beiden&#x27;,\n",
       "                                             &#x27;fünftes&#x27;, &#x27;wahr&#x27;, &#x27;muß&#x27;,\n",
       "                                             &#x27;durften&#x27;, &#x27;zehntes&#x27;, &#x27;endlich&#x27;,\n",
       "                                             &#x27;allgemeinen&#x27;, &#x27;dazu&#x27;, &#x27;wen&#x27;,\n",
       "                                             &#x27;jemandem&#x27;, &#x27;an&#x27;, &#x27;ganze&#x27;,\n",
       "                                             &#x27;vergangene&#x27;, &#x27;genug&#x27;, &#x27;zugleich&#x27;,\n",
       "                                             &#x27;erster&#x27;, &#x27;wollen&#x27;, &#x27;einigen&#x27;,\n",
       "                                             &#x27;solang&#x27;, &#x27;solche&#x27;, &#x27;warum&#x27;,\n",
       "                                             &#x27;dürft&#x27;, &#x27;gegenüber&#x27;, ...],\n",
       "                                 tokenizer=&lt;function tokenize at 0x00000250265D3430&gt;)),\n",
       "                (&#x27;svc&#x27;,\n",
       "                 SVC(class_weight=&#x27;balanced&#x27;, kernel=&#x27;linear&#x27;,\n",
       "                     probability=True))])</pre></div></div></div><div class=\"sk-serial\"><div class=\"sk-item\"><div class=\"sk-serial\"><div class=\"sk-item\"><div class=\"sk-estimator sk-toggleable\"><input class=\"sk-toggleable__control sk-hidden--visually\" id=\"sk-estimator-id-3\" type=\"checkbox\" ><label for=\"sk-estimator-id-3\" class=\"sk-toggleable__label sk-toggleable__label-arrow\">CountVectorizer</label><div class=\"sk-toggleable__content\"><pre>CountVectorizer(stop_words=[&#x27;wer&#x27;, &#x27;dort&#x27;, &#x27;als&#x27;, &#x27;sollten&#x27;, &#x27;dieselben&#x27;,\n",
       "                            &#x27;entweder&#x27;, &#x27;beiden&#x27;, &#x27;fünftes&#x27;, &#x27;wahr&#x27;, &#x27;muß&#x27;,\n",
       "                            &#x27;durften&#x27;, &#x27;zehntes&#x27;, &#x27;endlich&#x27;, &#x27;allgemeinen&#x27;,\n",
       "                            &#x27;dazu&#x27;, &#x27;wen&#x27;, &#x27;jemandem&#x27;, &#x27;an&#x27;, &#x27;ganze&#x27;,\n",
       "                            &#x27;vergangene&#x27;, &#x27;genug&#x27;, &#x27;zugleich&#x27;, &#x27;erster&#x27;,\n",
       "                            &#x27;wollen&#x27;, &#x27;einigen&#x27;, &#x27;solang&#x27;, &#x27;solche&#x27;, &#x27;warum&#x27;,\n",
       "                            &#x27;dürft&#x27;, &#x27;gegenüber&#x27;, ...],\n",
       "                tokenizer=&lt;function tokenize at 0x00000250265D3430&gt;)</pre></div></div></div><div class=\"sk-item\"><div class=\"sk-estimator sk-toggleable\"><input class=\"sk-toggleable__control sk-hidden--visually\" id=\"sk-estimator-id-4\" type=\"checkbox\" ><label for=\"sk-estimator-id-4\" class=\"sk-toggleable__label sk-toggleable__label-arrow\">SVC</label><div class=\"sk-toggleable__content\"><pre>SVC(class_weight=&#x27;balanced&#x27;, kernel=&#x27;linear&#x27;, probability=True)</pre></div></div></div></div></div></div></div></div></div></div></div></div>"
      ],
      "text/plain": [
       "GridSearchCV(cv=StratifiedKFold(n_splits=5, random_state=1, shuffle=True),\n",
       "             estimator=Pipeline(steps=[('countvectorizer',\n",
       "                                        CountVectorizer(stop_words=['wer',\n",
       "                                                                    'dort',\n",
       "                                                                    'als',\n",
       "                                                                    'sollten',\n",
       "                                                                    'dieselben',\n",
       "                                                                    'entweder',\n",
       "                                                                    'beiden',\n",
       "                                                                    'fünftes',\n",
       "                                                                    'wahr',\n",
       "                                                                    'muß',\n",
       "                                                                    'durften',\n",
       "                                                                    'zehntes',\n",
       "                                                                    'endlich',\n",
       "                                                                    'allgemeinen',\n",
       "                                                                    'dazu',\n",
       "                                                                    'wen',\n",
       "                                                                    'jemandem',\n",
       "                                                                    'an',\n",
       "                                                                    'ganze',\n",
       "                                                                    'vergangene',\n",
       "                                                                    'genug',\n",
       "                                                                    'zugleich',\n",
       "                                                                    'erster',\n",
       "                                                                    'wollen',\n",
       "                                                                    'einigen',\n",
       "                                                                    'solang',\n",
       "                                                                    'solche',\n",
       "                                                                    'warum',\n",
       "                                                                    'dürft',\n",
       "                                                                    'gegenüber', ...],\n",
       "                                                        tokenizer=<function tokenize at 0x00000250265D3430>)),\n",
       "                                       ('svc',\n",
       "                                        SVC(class_weight='balanced',\n",
       "                                            kernel='linear',\n",
       "                                            probability=True))]),\n",
       "             n_jobs=-1, param_grid={'svc__C': [0.01, 0.1, 1]},\n",
       "             scoring='roc_auc', verbose=1)"
      ]
     },
     "execution_count": 29,
     "metadata": {},
     "output_type": "execute_result"
    }
   ],
   "source": [
    "grid_svm.fit(training_sentences,train_labels_new)"
   ]
  },
  {
   "cell_type": "code",
   "execution_count": 30,
   "metadata": {},
   "outputs": [
    {
     "data": {
      "text/plain": [
       "0.9367260629041416"
      ]
     },
     "execution_count": 30,
     "metadata": {},
     "output_type": "execute_result"
    }
   ],
   "source": [
    "X_test = test1['sentence'].values\n",
    "y_test = test1['sentiment'].values\n",
    "grid_svm.score(X_test,y_test)"
   ]
  },
  {
   "cell_type": "code",
   "execution_count": 31,
   "metadata": {},
   "outputs": [
    {
     "data": {
      "text/plain": [
       "{'svc__C': 1}"
      ]
     },
     "execution_count": 31,
     "metadata": {},
     "output_type": "execute_result"
    }
   ],
   "source": [
    "grid_svm.best_params_"
   ]
  },
  {
   "cell_type": "code",
   "execution_count": 32,
   "metadata": {},
   "outputs": [
    {
     "data": {
      "text/plain": [
       "0.929212992465582"
      ]
     },
     "execution_count": 32,
     "metadata": {},
     "output_type": "execute_result"
    }
   ],
   "source": [
    "grid_svm.best_score_"
   ]
  },
  {
   "cell_type": "code",
   "execution_count": 33,
   "metadata": {},
   "outputs": [],
   "source": [
    "from sklearn.metrics import make_scorer, accuracy_score,f1_score,roc_curve,auc,roc_auc_score,recall_score,precision_score"
   ]
  },
  {
   "cell_type": "code",
   "execution_count": 34,
   "metadata": {},
   "outputs": [],
   "source": [
    "def report_results(model, X, y):\n",
    "    pred_proba = model.predict_proba(X)[:, 1]\n",
    "    pred = model.predict(X)        \n",
    "\n",
    "    auc = roc_auc_score(y, pred_proba)\n",
    "    acc = accuracy_score(y, pred)\n",
    "    f1 = f1_score(y, pred)\n",
    "    prec = precision_score(y, pred)\n",
    "    rec = recall_score(y, pred)\n",
    "    result = {'auc': auc, 'f1': f1, 'acc': acc, 'precision': prec, 'recall': rec}\n",
    "    return result"
   ]
  },
  {
   "cell_type": "code",
   "execution_count": 35,
   "metadata": {},
   "outputs": [
    {
     "data": {
      "text/plain": [
       "{'auc': 0.9367306424135846,\n",
       " 'f1': 0.856663872590109,\n",
       " 'acc': 0.8715251690458302,\n",
       " 'precision': 0.8432343234323433,\n",
       " 'recall': 0.8705281090289608}"
      ]
     },
     "execution_count": 35,
     "metadata": {},
     "output_type": "execute_result"
    }
   ],
   "source": [
    "report_results(grid_svm.best_estimator_, X_test, y_test)"
   ]
  },
  {
   "cell_type": "code",
   "execution_count": 36,
   "metadata": {},
   "outputs": [],
   "source": [
    "def get_roc_curve(model, X, y):\n",
    "    pred_proba = model.predict_proba(X)[:, 1]\n",
    "    fpr, tpr, _ = roc_curve(y, pred_proba)\n",
    "    return fpr, tpr"
   ]
  },
  {
   "cell_type": "code",
   "execution_count": 37,
   "metadata": {},
   "outputs": [],
   "source": [
    "roc_svm = get_roc_curve(grid_svm.best_estimator_, X_test, y_test)"
   ]
  },
  {
   "cell_type": "code",
   "execution_count": 38,
   "metadata": {},
   "outputs": [
    {
     "data": {
      "image/png": "[encoded data removed]",
      "text/plain": [
       "<Figure size 1400x800 with 1 Axes>"
      ]
     },
     "metadata": {},
     "output_type": "display_data"
    }
   ],
   "source": [
    "fpr, tpr = roc_svm\n",
    "plt.figure(figsize=(14,8))\n",
    "plt.plot(fpr, tpr, color=\"red\")\n",
    "plt.plot([0, 1], [0, 1], color='black', lw=2, linestyle='--')\n",
    "plt.xlim([0.0, 1.0])\n",
    "plt.ylim([0.0, 1.05])\n",
    "plt.xlabel('False Positive Rate')\n",
    "plt.ylabel('True Positive Rate')\n",
    "plt.title('Roc curve')\n",
    "plt.show()"
   ]
  },
  {
   "cell_type": "code",
   "execution_count": null,
   "metadata": {},
   "outputs": [],
   "source": []
  }
 ],
 "metadata": {
  "kernelspec": {
   "display_name": "Deeplearning",
   "language": "python",
   "name": "python3"
  },
  "language_info": {
   "codemirror_mode": {
    "name": "ipython",
    "version": 3
   },
   "file_extension": ".py",
   "mimetype": "text/x-python",
   "name": "python",
   "nbconvert_exporter": "python",
   "pygments_lexer": "ipython3",
   "version": "3.9.18"
  },
  "orig_nbformat": 4
 },
 "nbformat": 4,
 "nbformat_minor": 2
}
