{
 "cells": [
  {
   "cell_type": "code",
   "execution_count": 43,
   "metadata": {},
   "outputs": [],
   "source": [
    "import pandas as pd\n",
    "from pandas import read_excel\n",
    "import numpy as np \n",
    "import re \n",
    "from re import sub\n",
    "import multiprocessing\n",
    "from unidecode import unidecode\n",
    "import os \n",
    "from time import time \n",
    "import tensorflow as tf \n",
    "import keras\n",
    "from keras.models import Sequential\n",
    "from keras.layers import LSTM, Dense, Dropout, Activation,Embedding, Flatten,Bidirectional,MaxPooling2D, Conv1D, MaxPooling1D\n",
    "from tensorflow.keras.optimizers import SGD, Adam\n",
    "from keras import regularizers\n",
    "from keras.preprocessing.text import Tokenizer\n",
    "from keras.preprocessing.sequence import pad_sequences\n",
    "from keras.utils.np_utils import to_categorical\n",
    "import h5py\n",
    "import csv\n",
    "import seaborn as sns\n",
    "import matplotlib.pyplot as plt\n",
    "from sklearn.model_selection import train_test_split\n",
    "\n",
    "\n"
   ]
  },
  {
   "cell_type": "markdown",
   "metadata": {},
   "source": [
    "#clean unwwanted thing from dataset "
   ]
  },
  {
   "cell_type": "code",
   "execution_count": 24,
   "metadata": {},
   "outputs": [],
   "source": [
    "def text_to_word_list(text):\n",
    "    text=text.split()\n",
    "    return text\n",
    "\n",
    "def replace_strings(text):\n",
    "    emoji_pattern=re.compile(\"[\"u\"\\U0001F600-\\U0001F64F\"  # emoticons\n",
    "                           u\"\\U0001F300-\\U0001F5FF\"  # symbols & pictographs\n",
    "                           u\"\\U0001F680-\\U0001F6FF\"  # transport & map symbols\n",
    "                           u\"\\U0001F1E0-\\U0001F1FF\"  # flags (iOS)\n",
    "                           u\"\\U00002702-\\U000027B0\"\n",
    "                           u\"\\U000024C2-\\U0001F251\"\n",
    "                           u\"\\u00C0-\\u017F\"          #latin\n",
    "                           u\"\\u2000-\\u206F\"\"]+\", flags=re.UNICODE)\n",
    "    english_pattern=re.compile('[a-zA-Z0-9]+', flags=re.I)\n",
    "    text=emoji_pattern.sub(r'', text)\n",
    "    text=english_pattern.sub(r'', text)\n",
    "    return text\n",
    "\n",
    "\n",
    "# remove punctuations\n",
    "\n",
    "def remove_punctuations(my_str):\n",
    "        # define punctuation\n",
    "    punctuations = '''```\u0012\u0010\u0002\b`\u0007\b£|¢|\u0007Ñ+-*/=EROero৳০১২৩৪৫৬৭৮৯012–34567•89।!()-[]{};:'\"“\\’,<>./?@#$%^&*_~‘—॥”‰⚽️✌�￰৷￰'''\n",
    "    \n",
    "    no_punct = \"\"\n",
    "    for char in my_str:\n",
    "        if char not in punctuations:\n",
    "            no_punct = no_punct + char\n",
    "\n",
    "    # display the unpunctuated string\n",
    "    return no_punct\n",
    "\n",
    "\n",
    "\n",
    "def joining(text):\n",
    "    out=' '.join(text)\n",
    "    return out\n",
    "\n",
    "def preprocessing(text):\n",
    "    out=remove_punctuations(replace_strings(text))\n",
    "    return out\n",
    "\n",
    "\n"
   ]
  },
  {
   "cell_type": "code",
   "execution_count": 25,
   "metadata": {},
   "outputs": [
    {
     "name": "stdout",
     "output_type": "stream",
     "text": [
      "Requirement already satisfied: openpyxl in c:\\users\\user\\anaconda3\\envs\\machinelearning\\lib\\site-packages (3.1.2)\n",
      "Requirement already satisfied: et-xmlfile in c:\\users\\user\\anaconda3\\envs\\machinelearning\\lib\\site-packages (from openpyxl) (1.1.0)\n",
      "Note: you may need to restart the kernel to use updated packages.\n"
     ]
    }
   ],
   "source": [
    "pip install openpyxl"
   ]
  },
  {
   "cell_type": "code",
   "execution_count": 26,
   "metadata": {},
   "outputs": [
    {
     "name": "stdout",
     "output_type": "stream",
     "text": [
      "Requirement already satisfied: xlrd==1.2.0 in c:\\users\\user\\anaconda3\\envs\\machinelearning\\lib\\site-packages (1.2.0)Note: you may need to restart the kernel to use updated packages.\n",
      "\n"
     ]
    }
   ],
   "source": [
    "pip install xlrd==1.2.0"
   ]
  },
  {
   "cell_type": "code",
   "execution_count": 27,
   "metadata": {},
   "outputs": [
    {
     "data": {
      "text/html": [
       "<div>\n",
       "<style scoped>\n",
       "    .dataframe tbody tr th:only-of-type {\n",
       "        vertical-align: middle;\n",
       "    }\n",
       "\n",
       "    .dataframe tbody tr th {\n",
       "        vertical-align: top;\n",
       "    }\n",
       "\n",
       "    .dataframe thead th {\n",
       "        text-align: right;\n",
       "    }\n",
       "</style>\n",
       "<table border=\"1\" class=\"dataframe\">\n",
       "  <thead>\n",
       "    <tr style=\"text-align: right;\">\n",
       "      <th></th>\n",
       "      <th>Unnamed: 0</th>\n",
       "      <th>Unnamed: 1</th>\n",
       "      <th>Unnamed: 2</th>\n",
       "      <th>sentence</th>\n",
       "      <th>sentiment</th>\n",
       "    </tr>\n",
       "  </thead>\n",
       "  <tbody>\n",
       "    <tr>\n",
       "      <th>0</th>\n",
       "      <td>0</td>\n",
       "      <td>NaN</td>\n",
       "      <td>NaN</td>\n",
       "      <td>ওয়ও আমি গর্বিত বাঙ্গালি</td>\n",
       "      <td>1</td>\n",
       "    </tr>\n",
       "    <tr>\n",
       "      <th>1</th>\n",
       "      <td>1</td>\n",
       "      <td>NaN</td>\n",
       "      <td>NaN</td>\n",
       "      <td>বাংলাদেশ এর কিছু মানুষ নিজে কিছু করতে পারবেনা ...</td>\n",
       "      <td>0</td>\n",
       "    </tr>\n",
       "    <tr>\n",
       "      <th>2</th>\n",
       "      <td>2</td>\n",
       "      <td>NaN</td>\n",
       "      <td>NaN</td>\n",
       "      <td>রামোসের ঘুম আসে না</td>\n",
       "      <td>0</td>\n",
       "    </tr>\n",
       "    <tr>\n",
       "      <th>3</th>\n",
       "      <td>3</td>\n",
       "      <td>NaN</td>\n",
       "      <td>NaN</td>\n",
       "      <td>কোহলির প্রতি শ্রদ্ধা হারিয়ে ফেলছি</td>\n",
       "      <td>1</td>\n",
       "    </tr>\n",
       "    <tr>\n",
       "      <th>4</th>\n",
       "      <td>4</td>\n",
       "      <td>NaN</td>\n",
       "      <td>NaN</td>\n",
       "      <td>থ্যাঙ্ক ইউ মাছরাঙ্গা টেলিভিশনকিন্তু ছাপোষা আন্...</td>\n",
       "      <td>0</td>\n",
       "    </tr>\n",
       "    <tr>\n",
       "      <th>...</th>\n",
       "      <td>...</td>\n",
       "      <td>...</td>\n",
       "      <td>...</td>\n",
       "      <td>...</td>\n",
       "      <td>...</td>\n",
       "    </tr>\n",
       "    <tr>\n",
       "      <th>6647</th>\n",
       "      <td>6647</td>\n",
       "      <td>NaN</td>\n",
       "      <td>NaN</td>\n",
       "      <td>আমি কখনো আশা করিনি যে আমি আমার স্বপ্নের প্রিয় ...</td>\n",
       "      <td>1</td>\n",
       "    </tr>\n",
       "    <tr>\n",
       "      <th>6648</th>\n",
       "      <td>6648</td>\n",
       "      <td>NaN</td>\n",
       "      <td>NaN</td>\n",
       "      <td>মিডিয়া লিটনকে একজন খারাপ মানুষ হিসেবে প্রতিষ্ঠ...</td>\n",
       "      <td>0</td>\n",
       "    </tr>\n",
       "    <tr>\n",
       "      <th>6649</th>\n",
       "      <td>6649</td>\n",
       "      <td>NaN</td>\n",
       "      <td>NaN</td>\n",
       "      <td>বাংলাদেশের জন্ম কিংবা তার পূর্বের ইতিহাস অনেকে...</td>\n",
       "      <td>0</td>\n",
       "    </tr>\n",
       "    <tr>\n",
       "      <th>6650</th>\n",
       "      <td>6650</td>\n",
       "      <td>NaN</td>\n",
       "      <td>NaN</td>\n",
       "      <td>আপনারা সিম নিবন্দন করালেন বাংলাদেশে অপরাধ কমবে...</td>\n",
       "      <td>0</td>\n",
       "    </tr>\n",
       "    <tr>\n",
       "      <th>6651</th>\n",
       "      <td>6651</td>\n",
       "      <td>NaN</td>\n",
       "      <td>NaN</td>\n",
       "      <td>কত দিন যে মোবাইল ছুড়ে ফেলতে ইচ্ছা হয়েছে তার ...</td>\n",
       "      <td>0</td>\n",
       "    </tr>\n",
       "  </tbody>\n",
       "</table>\n",
       "<p>6652 rows × 5 columns</p>\n",
       "</div>"
      ],
      "text/plain": [
       "      Unnamed: 0  Unnamed: 1  Unnamed: 2  \\\n",
       "0              0         NaN         NaN   \n",
       "1              1         NaN         NaN   \n",
       "2              2         NaN         NaN   \n",
       "3              3         NaN         NaN   \n",
       "4              4         NaN         NaN   \n",
       "...          ...         ...         ...   \n",
       "6647        6647         NaN         NaN   \n",
       "6648        6648         NaN         NaN   \n",
       "6649        6649         NaN         NaN   \n",
       "6650        6650         NaN         NaN   \n",
       "6651        6651         NaN         NaN   \n",
       "\n",
       "                                               sentence  sentiment  \n",
       "0                               ওয়ও আমি গর্বিত বাঙ্গালি          1  \n",
       "1     বাংলাদেশ এর কিছু মানুষ নিজে কিছু করতে পারবেনা ...          0  \n",
       "2                                    রামোসের ঘুম আসে না          0  \n",
       "3                     কোহলির প্রতি শ্রদ্ধা হারিয়ে ফেলছি          1  \n",
       "4     থ্যাঙ্ক ইউ মাছরাঙ্গা টেলিভিশনকিন্তু ছাপোষা আন্...          0  \n",
       "...                                                 ...        ...  \n",
       "6647  আমি কখনো আশা করিনি যে আমি আমার স্বপ্নের প্রিয় ...          1  \n",
       "6648  মিডিয়া লিটনকে একজন খারাপ মানুষ হিসেবে প্রতিষ্ঠ...          0  \n",
       "6649  বাংলাদেশের জন্ম কিংবা তার পূর্বের ইতিহাস অনেকে...          0  \n",
       "6650  আপনারা সিম নিবন্দন করালেন বাংলাদেশে অপরাধ কমবে...          0  \n",
       "6651  কত দিন যে মোবাইল ছুড়ে ফেলতে ইচ্ছা হয়েছে তার ...          0  \n",
       "\n",
       "[6652 rows x 5 columns]"
      ]
     },
     "metadata": {},
     "output_type": "display_data"
    }
   ],
   "source": [
    "df=pd.read_excel('predicted_unsupervised_sentiment.xlsx')\n",
    "display(df)"
   ]
  },
  {
   "cell_type": "code",
   "execution_count": 28,
   "metadata": {},
   "outputs": [
    {
     "data": {
      "text/plain": [
       "<AxesSubplot:xlabel='sentiment', ylabel='count'>"
      ]
     },
     "execution_count": 28,
     "metadata": {},
     "output_type": "execute_result"
    },
    {
     "data": {
      "image/png": "[encoded data removed]",
      "text/plain": [
       "<Figure size 432x288 with 1 Axes>"
      ]
     },
     "metadata": {
      "needs_background": "light"
     },
     "output_type": "display_data"
    }
   ],
   "source": [
    "sns.countplot(x ='sentiment', data = df)"
   ]
  },
  {
   "cell_type": "code",
   "execution_count": 29,
   "metadata": {},
   "outputs": [],
   "source": [
    "df[\"sentence\"]= df.sentence.apply(lambda x: preprocessing(str(x)))"
   ]
  },
  {
   "cell_type": "code",
   "execution_count": 30,
   "metadata": {},
   "outputs": [],
   "source": [
    "df.reset_index(drop=True,inplace=True)"
   ]
  },
  {
   "cell_type": "code",
   "execution_count": 31,
   "metadata": {},
   "outputs": [
    {
     "data": {
      "text/html": [
       "<div>\n",
       "<style scoped>\n",
       "    .dataframe tbody tr th:only-of-type {\n",
       "        vertical-align: middle;\n",
       "    }\n",
       "\n",
       "    .dataframe tbody tr th {\n",
       "        vertical-align: top;\n",
       "    }\n",
       "\n",
       "    .dataframe thead th {\n",
       "        text-align: right;\n",
       "    }\n",
       "</style>\n",
       "<table border=\"1\" class=\"dataframe\">\n",
       "  <thead>\n",
       "    <tr style=\"text-align: right;\">\n",
       "      <th></th>\n",
       "      <th>Unnamed: 0</th>\n",
       "      <th>Unnamed: 1</th>\n",
       "      <th>Unnamed: 2</th>\n",
       "      <th>sentence</th>\n",
       "      <th>sentiment</th>\n",
       "    </tr>\n",
       "  </thead>\n",
       "  <tbody>\n",
       "    <tr>\n",
       "      <th>0</th>\n",
       "      <td>0</td>\n",
       "      <td>NaN</td>\n",
       "      <td>NaN</td>\n",
       "      <td>ওয়ও আমি গর্বিত বাঙ্গালি</td>\n",
       "      <td>1</td>\n",
       "    </tr>\n",
       "    <tr>\n",
       "      <th>1</th>\n",
       "      <td>1</td>\n",
       "      <td>NaN</td>\n",
       "      <td>NaN</td>\n",
       "      <td>বাংলাদেশ এর কিছু মানুষ নিজে কিছু করতে পারবেনা ...</td>\n",
       "      <td>0</td>\n",
       "    </tr>\n",
       "    <tr>\n",
       "      <th>2</th>\n",
       "      <td>2</td>\n",
       "      <td>NaN</td>\n",
       "      <td>NaN</td>\n",
       "      <td>রামোসের ঘুম আসে না</td>\n",
       "      <td>0</td>\n",
       "    </tr>\n",
       "    <tr>\n",
       "      <th>3</th>\n",
       "      <td>3</td>\n",
       "      <td>NaN</td>\n",
       "      <td>NaN</td>\n",
       "      <td>কোহলির প্রতি শ্রদ্ধা হারিয়ে ফেলছি</td>\n",
       "      <td>1</td>\n",
       "    </tr>\n",
       "    <tr>\n",
       "      <th>4</th>\n",
       "      <td>4</td>\n",
       "      <td>NaN</td>\n",
       "      <td>NaN</td>\n",
       "      <td>থ্যাঙ্ক ইউ মাছরাঙ্গা টেলিভিশনকিন্তু ছাপোষা আন্...</td>\n",
       "      <td>0</td>\n",
       "    </tr>\n",
       "    <tr>\n",
       "      <th>...</th>\n",
       "      <td>...</td>\n",
       "      <td>...</td>\n",
       "      <td>...</td>\n",
       "      <td>...</td>\n",
       "      <td>...</td>\n",
       "    </tr>\n",
       "    <tr>\n",
       "      <th>6647</th>\n",
       "      <td>6647</td>\n",
       "      <td>NaN</td>\n",
       "      <td>NaN</td>\n",
       "      <td>আমি কখনো আশা করিনি যে আমি আমার স্বপ্নের প্রিয় ...</td>\n",
       "      <td>1</td>\n",
       "    </tr>\n",
       "    <tr>\n",
       "      <th>6648</th>\n",
       "      <td>6648</td>\n",
       "      <td>NaN</td>\n",
       "      <td>NaN</td>\n",
       "      <td>মিডিয়া লিটনকে একজন খারাপ মানুষ হিসেবে প্রতিষ্ঠ...</td>\n",
       "      <td>0</td>\n",
       "    </tr>\n",
       "    <tr>\n",
       "      <th>6649</th>\n",
       "      <td>6649</td>\n",
       "      <td>NaN</td>\n",
       "      <td>NaN</td>\n",
       "      <td>বাংলাদেশের জন্ম কিংবা তার পূর্বের ইতিহাস অনেকে...</td>\n",
       "      <td>0</td>\n",
       "    </tr>\n",
       "    <tr>\n",
       "      <th>6650</th>\n",
       "      <td>6650</td>\n",
       "      <td>NaN</td>\n",
       "      <td>NaN</td>\n",
       "      <td>আপনারা সিম নিবন্দন করালেন বাংলাদেশে অপরাধ কমবে...</td>\n",
       "      <td>0</td>\n",
       "    </tr>\n",
       "    <tr>\n",
       "      <th>6651</th>\n",
       "      <td>6651</td>\n",
       "      <td>NaN</td>\n",
       "      <td>NaN</td>\n",
       "      <td>কত দিন যে মোবাইল ছুড়ে ফেলতে ইচ্ছা হয়েছে তার ...</td>\n",
       "      <td>0</td>\n",
       "    </tr>\n",
       "  </tbody>\n",
       "</table>\n",
       "<p>6652 rows × 5 columns</p>\n",
       "</div>"
      ],
      "text/plain": [
       "      Unnamed: 0  Unnamed: 1  Unnamed: 2  \\\n",
       "0              0         NaN         NaN   \n",
       "1              1         NaN         NaN   \n",
       "2              2         NaN         NaN   \n",
       "3              3         NaN         NaN   \n",
       "4              4         NaN         NaN   \n",
       "...          ...         ...         ...   \n",
       "6647        6647         NaN         NaN   \n",
       "6648        6648         NaN         NaN   \n",
       "6649        6649         NaN         NaN   \n",
       "6650        6650         NaN         NaN   \n",
       "6651        6651         NaN         NaN   \n",
       "\n",
       "                                               sentence  sentiment  \n",
       "0                               ওয়ও আমি গর্বিত বাঙ্গালি          1  \n",
       "1     বাংলাদেশ এর কিছু মানুষ নিজে কিছু করতে পারবেনা ...          0  \n",
       "2                                    রামোসের ঘুম আসে না          0  \n",
       "3                     কোহলির প্রতি শ্রদ্ধা হারিয়ে ফেলছি          1  \n",
       "4     থ্যাঙ্ক ইউ মাছরাঙ্গা টেলিভিশনকিন্তু ছাপোষা আন্...          0  \n",
       "...                                                 ...        ...  \n",
       "6647  আমি কখনো আশা করিনি যে আমি আমার স্বপ্নের প্রিয় ...          1  \n",
       "6648  মিডিয়া লিটনকে একজন খারাপ মানুষ হিসেবে প্রতিষ্ঠ...          0  \n",
       "6649  বাংলাদেশের জন্ম কিংবা তার পূর্বের ইতিহাস অনেকে...          0  \n",
       "6650  আপনারা সিম নিবন্দন করালেন বাংলাদেশে অপরাধ কমবে...          0  \n",
       "6651  কত দিন যে মোবাইল ছুড়ে ফেলতে ইচ্ছা হয়েছে তার ...          0  \n",
       "\n",
       "[6652 rows x 5 columns]"
      ]
     },
     "execution_count": 31,
     "metadata": {},
     "output_type": "execute_result"
    }
   ],
   "source": [
    "df"
   ]
  },
  {
   "cell_type": "code",
   "execution_count": 32,
   "metadata": {},
   "outputs": [
    {
     "name": "stdout",
     "output_type": "stream",
     "text": [
      "Training Set Length: 5321\n",
      "Testing Set Length: 1331\n",
      "training_sentences shape: (5321,)\n",
      "testing_sentences shape: (1331,)\n",
      "train_labels shape: (5321, 2)\n",
      "test_labels shape: (1331, 2)\n"
     ]
    }
   ],
   "source": [
    "train1, test1= train_test_split(df,random_state=42,test_size=0.2)\n",
    "training_sentences=[]\n",
    "testing_sentences=[]\n",
    "\n",
    "\n",
    "\n",
    "train_sentences=train1['sentence'].values\n",
    "train_labels=train1['sentiment'].values\n",
    "\n",
    "for i in range(train_sentences.shape[0]):\n",
    "    x=str(train_sentences[i])\n",
    "    training_sentences.append(x)\n",
    "training_sentences=np.array(training_sentences)\n",
    "\n",
    "\n",
    "\n",
    "test_sentences=test1['sentence'].values\n",
    "test_labels=test1['sentiment'].values\n",
    "\n",
    "for i in range(test_sentences.shape[0]):\n",
    "    x=str(test_sentences[i])\n",
    "    testing_sentences.append(x)\n",
    "\n",
    "testing_sentences=np.array(testing_sentences)\n",
    "\n",
    "train_labels=tf.keras.utils.to_categorical(train_labels)\n",
    "\n",
    "test_labels=tf.keras.utils.to_categorical(test_labels)\n",
    "\n",
    "print(\"Training Set Length: \"+str(len(train1)))\n",
    "print(\"Testing Set Length: \"+str(len(test1)))\n",
    "print(\"training_sentences shape: \"+str(training_sentences.shape))\n",
    "print(\"testing_sentences shape: \"+str(testing_sentences.shape))\n",
    "print(\"train_labels shape: \"+str(train_labels.shape))\n",
    "print(\"test_labels shape: \"+str(test_labels.shape))\n",
    "\n",
    "\n"
   ]
  },
  {
   "cell_type": "code",
   "execution_count": 33,
   "metadata": {},
   "outputs": [
    {
     "name": "stdout",
     "output_type": "stream",
     "text": [
      "মূলত তাঁর প্রয়াসেই বাংলাদেশ ক্রিকেটে এতকিছু পেয়েছে তাঁর হাত ধরেই বাংলাদেশ একদিন স্বপ্নের সোনালি সিঁড়ি বেয়ে বিশ্বকে দেখিয়ে বিশ্বকাপ নিয়ে আসবে আর সারা বিশ্ব সাকিবের নামে বিজয়ের স্লোগান দিবে\n",
      "[1. 0.]\n"
     ]
    }
   ],
   "source": [
    "print(training_sentences[1])\n",
    "print(train_labels[0])"
   ]
  },
  {
   "cell_type": "code",
   "execution_count": 34,
   "metadata": {},
   "outputs": [],
   "source": [
    "vocab_size=25000\n",
    "embedding_dim=300\n",
    "max_length=100\n",
    "trunc_type='post'\n",
    "oov_tok='<OOV>'"
   ]
  },
  {
   "cell_type": "code",
   "execution_count": 35,
   "metadata": {},
   "outputs": [
    {
     "name": "stdout",
     "output_type": "stream",
     "text": [
      "(5321,)\n",
      "(5321, 2)\n"
     ]
    }
   ],
   "source": [
    "print(training_sentences.shape)\n",
    "print(train_labels.shape)"
   ]
  },
  {
   "cell_type": "code",
   "execution_count": 36,
   "metadata": {},
   "outputs": [
    {
     "name": "stdout",
     "output_type": "stream",
     "text": [
      "18442\n",
      "word index length : 18442\n"
     ]
    }
   ],
   "source": [
    "tokenizer=Tokenizer(num_words=vocab_size,oov_token=oov_tok)\n",
    "tokenizer.fit_on_texts(training_sentences)\n",
    "word_index=tokenizer.word_index\n",
    "print(len(word_index))\n",
    "print(\"word index length : \"+str(len(tokenizer.word_index)))\n",
    "sequences=tokenizer.texts_to_sequences(training_sentences)\n",
    "padded=pad_sequences(sequences,maxlen=max_length,truncating=trunc_type)\n",
    "\n",
    "\n",
    "test_sequences= tokenizer.texts_to_sequences(testing_sentences)\n",
    "testing_padded=pad_sequences(test_sequences, maxlen=max_length)"
   ]
  },
  {
   "cell_type": "code",
   "execution_count": 37,
   "metadata": {},
   "outputs": [
    {
     "name": "stdout",
     "output_type": "stream",
     "text": [
      "Sentence :--> \n",
      "\n",
      "কারাগারে বিলাসী জীবন কাটছিল মুফতি হান্নানের\n",
      "\n",
      "Sentence Tokenized and Converted into Sequence :--> \n",
      "\n",
      "[6842, 6843, 235, 6844, 6845, 4363]\n",
      "\n",
      "After Padding the Sequence with padding length 100 :--> \n",
      "\n",
      "[   0    0    0    0    0    0    0    0    0    0    0    0    0    0\n",
      "    0    0    0    0    0    0    0    0    0    0    0    0    0    0\n",
      "    0    0    0    0    0    0    0    0    0    0    0    0    0    0\n",
      "    0    0    0    0    0    0    0    0    0    0    0    0    0    0\n",
      "    0    0    0    0    0    0    0    0    0    0    0    0    0    0\n",
      "    0    0    0    0    0    0    0    0    0    0    0    0    0    0\n",
      "    0    0    0    0    0    0    0    0    0    0 6842 6843  235 6844\n",
      " 6845 4363]\n"
     ]
    }
   ],
   "source": [
    "print(\"Sentence :--> \\n\")\n",
    "print(training_sentences[2]+\"\\n\")\n",
    "print(\"Sentence Tokenized and Converted into Sequence :--> \\n\")\n",
    "print(str(sequences[2])+\"\\n\")\n",
    "print(\"After Padding the Sequence with padding length 100 :--> \\n\")\n",
    "print(padded[2])"
   ]
  },
  {
   "cell_type": "code",
   "execution_count": 38,
   "metadata": {},
   "outputs": [
    {
     "name": "stdout",
     "output_type": "stream",
     "text": [
      "Padded shape(training) :(5321, 100)\n",
      "Padded shape(testing) :(1331, 100)\n"
     ]
    }
   ],
   "source": [
    "print(\"Padded shape(training) :\" + str(padded.shape))\n",
    "print(\"Padded shape(testing) :\" + str(testing_padded.shape))"
   ]
  },
  {
   "cell_type": "code",
   "execution_count": 39,
   "metadata": {},
   "outputs": [
    {
     "name": "stdout",
     "output_type": "stream",
     "text": [
      "Model: \"sequential_1\"\n",
      "_________________________________________________________________\n",
      "Layer (type)                 Output Shape              Param #   \n",
      "=================================================================\n",
      "embedding_1 (Embedding)      (None, 100, 300)          7500000   \n",
      "_________________________________________________________________\n",
      "conv1d_1 (Conv1D)            (None, 98, 200)           180200    \n",
      "_________________________________________________________________\n",
      "bidirectional_2 (Bidirection (None, 98, 128)           135680    \n",
      "_________________________________________________________________\n",
      "dropout_1 (Dropout)          (None, 98, 128)           0         \n",
      "_________________________________________________________________\n",
      "bidirectional_3 (Bidirection (None, 128)               98816     \n",
      "_________________________________________________________________\n",
      "dense_4 (Dense)              (None, 50)                6450      \n",
      "_________________________________________________________________\n",
      "dense_5 (Dense)              (None, 50)                2550      \n",
      "_________________________________________________________________\n",
      "flatten_1 (Flatten)          (None, 50)                0         \n",
      "_________________________________________________________________\n",
      "dense_6 (Dense)              (None, 100)               5100      \n",
      "_________________________________________________________________\n",
      "dense_7 (Dense)              (None, 2)                 202       \n",
      "=================================================================\n",
      "Total params: 7,928,998\n",
      "Trainable params: 7,928,998\n",
      "Non-trainable params: 0\n",
      "_________________________________________________________________\n"
     ]
    }
   ],
   "source": [
    "# Model creation \n",
    "with tf.device('/gpu:0'):\n",
    "    model=Sequential()\n",
    "    model.add(Embedding(vocab_size, embedding_dim, input_length=max_length))\n",
    "    model.add(Conv1D(200, kernel_size=3, activation=\"relu\"))\n",
    "    model.add(Bidirectional(LSTM(64, return_sequences=True)))\n",
    "    model.add(Dropout(0.5))\n",
    "    model.add(Bidirectional(LSTM(64)))\n",
    "    model.add(Dense(50,activation='relu'))\n",
    "    model.add(Dense(50,activation='relu'))\n",
    "    model.add(Flatten())\n",
    "\n",
    "\n",
    "    #l2 regularizer\n",
    "    model.add(Dense(100, kernel_regularizer=regularizers.l2(0.01),activation='relu'))\n",
    "    model.add(Dense(2, activation='softmax'))\n",
    "    adam=Adam(learning_rate=0.0005,beta_1=0.9,beta_2=0.999,epsilon=1e-07,amsgrad=False)\n",
    "    model.summary()\n",
    "    model.compile(loss='categorical_crossentropy', optimizer= adam, metrics=['accuracy'])\n",
    "\n",
    "\n",
    "\n",
    "\n"
   ]
  },
  {
   "cell_type": "code",
   "execution_count": 40,
   "metadata": {},
   "outputs": [
    {
     "name": "stdout",
     "output_type": "stream",
     "text": [
      "Epoch 1/5\n",
      "21/21 [==============================] - 49s 2s/step - loss: 1.2912 - accuracy: 0.5531 - val_loss: 1.2178 - val_accuracy: 0.5973\n",
      "Epoch 2/5\n",
      "21/21 [==============================] - 34s 2s/step - loss: 1.0672 - accuracy: 0.7237 - val_loss: 0.9253 - val_accuracy: 0.8024\n",
      "Epoch 3/5\n",
      "21/21 [==============================] - 35s 2s/step - loss: 0.6790 - accuracy: 0.9145 - val_loss: 0.8384 - val_accuracy: 0.8415\n",
      "Epoch 4/5\n",
      "21/21 [==============================] - 36s 2s/step - loss: 0.4568 - accuracy: 0.9778 - val_loss: 0.8624 - val_accuracy: 0.8482\n",
      "Epoch 5/5\n",
      "21/21 [==============================] - 37s 2s/step - loss: 0.3594 - accuracy: 0.9925 - val_loss: 0.9863 - val_accuracy: 0.8445\n"
     ]
    }
   ],
   "source": [
    "history= model.fit(padded,train_labels, epochs=5, batch_size=256,validation_data=(testing_padded,test_labels),use_multiprocessing= True, workers=8)"
   ]
  },
  {
   "cell_type": "code",
   "execution_count": 41,
   "metadata": {},
   "outputs": [
    {
     "name": "stdout",
     "output_type": "stream",
     "text": [
      "dict_keys(['loss', 'accuracy', 'val_loss', 'val_accuracy'])\n"
     ]
    },
    {
     "data": {
      "image/png": "[encoded data removed]",
      "text/plain": [
       "<Figure size 432x288 with 1 Axes>"
      ]
     },
     "metadata": {
      "needs_background": "light"
     },
     "output_type": "display_data"
    },
    {
     "data": {
      "image/png": "[encoded data removed]",
      "text/plain": [
       "<Figure size 432x288 with 1 Axes>"
      ]
     },
     "metadata": {
      "needs_background": "light"
     },
     "output_type": "display_data"
    }
   ],
   "source": [
    "#Visualization\n",
    "print(history.history.keys())\n",
    "loss = history.history['loss']\n",
    "val_loss = history.history['val_loss']\n",
    "plt.plot(loss)\n",
    "plt.plot(val_loss)\n",
    "plt.title('model loss')\n",
    "plt.ylabel('loss')\n",
    "plt.xlabel('epoch')\n",
    "plt.legend(['loss', 'val_loss'])\n",
    "plt.show()\n",
    "\n",
    "accuracy = history.history['accuracy']\n",
    "val_accuracy= history.history['val_accuracy']\n",
    "plt.plot(accuracy)\n",
    "plt.plot(val_accuracy)\n",
    "plt.title('model accuracy')\n",
    "plt.ylabel('accuracy')\n",
    "plt.xlabel('epoch')\n",
    "plt.legend(['accuracy', 'val_accuracy'])\n",
    "plt.show()"
   ]
  },
  {
   "cell_type": "code",
   "execution_count": 42,
   "metadata": {},
   "outputs": [
    {
     "name": "stdout",
     "output_type": "stream",
     "text": [
      "21/21 [==============================] - 8s 377ms/step - loss: 0.3271 - accuracy: 0.9945\n",
      "The train accuracy is: 0.9945498704910278\n",
      "6/6 [==============================] - 2s 348ms/step - loss: 0.9863 - accuracy: 0.8445\n",
      "The test accuracy is: 0.8444778323173523\n"
     ]
    }
   ],
   "source": [
    "loss_and_metrics=model.evaluate(padded,train_labels,batch_size=256)\n",
    "print(\"The train accuracy is: \"+str(loss_and_metrics[1]))\n",
    "loss_and_metrics = model.evaluate(testing_padded,test_labels,batch_size=256)\n",
    "print(\"The test accuracy is: \"+str(loss_and_metrics[1]))"
   ]
  },
  {
   "cell_type": "code",
   "execution_count": null,
   "metadata": {},
   "outputs": [],
   "source": []
  }
 ],
 "metadata": {
  "kernelspec": {
   "display_name": "Deeplearning",
   "language": "python",
   "name": "python3"
  },
  "language_info": {
   "codemirror_mode": {
    "name": "ipython",
    "version": 3
   },
   "file_extension": ".py",
   "mimetype": "text/x-python",
   "name": "python",
   "nbconvert_exporter": "python",
   "pygments_lexer": "ipython3",
   "version": "3.6.13"
  },
  "orig_nbformat": 4
 },
 "nbformat": 4,
 "nbformat_minor": 2
}
